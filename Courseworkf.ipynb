{
 "cells": [
  {
   "cell_type": "markdown",
   "metadata": {},
   "source": [
    "# Coursework "
   ]
  },
  {
   "cell_type": "markdown",
   "metadata": {},
   "source": [
    "### The Image Repository "
   ]
  },
  {
   "attachments": {},
   "cell_type": "markdown",
   "metadata": {},
   "source": [
    "This project will aim to apply facial recognition to images with masks whilst also detecting the gender of the person to determine if they are female or male. This project assumes that there are only two genders and did not account for transgender or non binary people. To do this an image repository has been compiled named 'images' containing four subfolders named 'femalemask','femalenomask','malemask', and 'malenomask'. These images have been sourced from two kaggle datasets.\n",
    "\n",
    "The image repository first used the Gupta Human Faces (HF) dataset (2020). This data had sufficient data for masked individuals of both genders however it was lacking in the amount of unmasked faces. Especially unmasked females, which would be crucial for the model. Therefore, a second dataset The Larxel Face Mask Detection(FMD)(2020) was introduced extracting 250 images of female faces and 250 male faces without masks.  \n",
    "\n",
    "Once the two datasets were collected, the images within them were manually divided to each subfolder depending on whether they were male or female or had a mask on. Group photos within the datasets were cropped to extract multiple faces from each photo. Resulting in four subfolders containing female faces with a mask 'femalemask', female faces with no mask 'femalenomask', male faces with a mask 'malemask', and male faces with no mask 'malenomask'."
   ]
  },
  {
   "cell_type": "code",
   "execution_count": null,
   "metadata": {},
   "outputs": [],
   "source": []
  },
  {
   "cell_type": "markdown",
   "metadata": {},
   "source": [
    "GUPTA, A., 2020. Human Faces, A web scraped dataset of human faces suggested for image processing models. [online]. US: Kaggle. Available from: https://www.kaggle.com/ashwingupta3012/human-faces URL [16th April 2021].\n",
    "\n",
    "LARXEL., 2020. Face Mask Detection. [online]. US: Kaggle. Available from: :https://www.kaggle.com/andrewmvd/face-mask-detection URL [16th April 2021]."
   ]
  },
  {
   "cell_type": "markdown",
   "metadata": {},
   "source": [
    "### Pre-Processing "
   ]
  },
  {
   "cell_type": "markdown",
   "metadata": {},
   "source": [
    "2. Creation of multiple variations of the original repository based on data processing techniques. For this step,\n",
    "students must apply techniques such as image pre-processing (e.g. thresholding, cleaning, denoising, filtering),\n",
    "feature extraction, image/feature augmentation and class decomposition to store replicas of the original\n",
    "dataset inside appropriate data structures, such as NumPy arrays, Pandas data frames, etc.\n",
    "\n",
    "\n",
    "The student\n",
    "implemented an optimal\n",
    "function which loads the\n",
    "data repository into a\n",
    "proper Python data\n",
    "structure.\n",
    "Images were correctly\n",
    "transformed before the\n",
    "creation of the original\n",
    "data repository\n",
    "structure.\n",
    "A wide variety of\n",
    "additional datasets were\n",
    "created, showing an\n",
    "exceptional\n",
    "understanding of recent\n",
    "and complex image preprocessing, feature\n",
    "extraction,\n",
    "image/feature\n",
    "augmentation and class\n",
    "decomposition\n",
    "techniques.\n",
    "All methodologies used\n",
    "are clearly justified and\n",
    "explained."
   ]
  },
  {
   "cell_type": "markdown",
   "metadata": {},
   "source": [
    "There are three aims of the pre-processing stage:\n",
    "\n",
    " - Resize Image Repository\n",
    " - Binarise Image Repository\n",
    " - Histogram of Gradients(HOG) Feature Extraction"
   ]
  },
  {
   "cell_type": "markdown",
   "metadata": {},
   "source": [
    "##### Resize Image Repository"
   ]
  },
  {
   "cell_type": "markdown",
   "metadata": {},
   "source": [
    "For pre-processing stage, the images will be resized and then binarised. The images are loaded and resized to 100x100 so that all the images in the repository will be the same size for the classification problem further on. \n",
    "\n",
    "After the images are loaded and resized they are place in a repository named datarepo. Then another repository is created to store them as flattened numpy dataframes in originalrepo. "
   ]
  },
  {
   "cell_type": "markdown",
   "metadata": {},
   "source": [
    "##### Binarised  Image Repository"
   ]
  },
  {
   "cell_type": "markdown",
   "metadata": {},
   "source": [
    "After resizing the images they are then binarised. Each image is binarised and have a threshold added to the images. Creating a copy of the image, the function iterates over the numpy array for all rows and columns of the image, comparing the pixel value to the threshold. When the pixel's value is smaller than the threshold, the pixel's value is transformed to zero. If the pixel's value is greater than the threshold it is converted to 255. This is then saved into a repository "
   ]
  },
  {
   "cell_type": "markdown",
   "metadata": {},
   "source": [
    "##### Histogram of Gradients(HOG) Feature Extraction"
   ]
  },
  {
   "cell_type": "markdown",
   "metadata": {},
   "source": [
    "To extract facial features from the images to allow for the classification a technique using the Histogram of Gradients(HOG) is applied to the image repository. \n",
    "\n",
    "The method counts the number of times a gradient orientation appears in a specific area of an image. Turning a 64x128x3 image into a feature vector with a length of 3780 pixels.The image's x and y gradients, as well as its magnitude, are determined using this method. The gradients are calculated by splitting the image into patches.\n",
    "\n",
    "With the following code it is possible to load the dataset, resize/binarise the images, and then create an additional image repository using Histogram of Gradients (HOG)."
   ]
  },
  {
   "cell_type": "markdown",
   "metadata": {},
   "source": [
    "##### Creating the Hog Feature as Functions "
   ]
  },
  {
   "cell_type": "code",
   "execution_count": 1,
   "metadata": {},
   "outputs": [],
   "source": [
    " \n",
    "import warnings; warnings.simplefilter('ignore')\n",
    "# Obtaining the HOG gradients of an image\n",
    "from skimage import feature\n",
    "class HOG:\n",
    "    def __init__(self, orientations = 9, pixelsPerCell = (8, 8),\n",
    "        cellsPerBlock = (3, 3), transform = False):\n",
    "        # store the number of orientations, pixels per cell,\n",
    "        # cells per block, and whether or not power law\n",
    "        # compression should be applied\n",
    "        self.orienations = orientations\n",
    "        self.pixelsPerCell = pixelsPerCell\n",
    "        self.cellsPerBlock = cellsPerBlock\n",
    "        self.transform = transform\n",
    "\n",
    "    def describe(self, image):\n",
    "        # compute HOG for the image\n",
    "        hist = feature.hog(image, orientations = self.orienations,\n",
    "            pixels_per_cell = self.pixelsPerCell,\n",
    "            cells_per_block = self.cellsPerBlock,\n",
    "            transform_sqrt = self.transform)\n",
    "        ## return the HOG features\n",
    "        return hist\n",
    "    \n",
    "hog = HOG(orientations = 18, pixelsPerCell = (10, 10), cellsPerBlock = (1, 1), transform = True)"
   ]
  },
  {
   "cell_type": "markdown",
   "metadata": {},
   "source": [
    "### Apply Pre-Processing to Image Repository"
   ]
  },
  {
   "cell_type": "markdown",
   "metadata": {},
   "source": [
    "The code below will apply the pre-processing to the full repository and store it as a numpy data frame. "
   ]
  },
  {
   "cell_type": "code",
   "execution_count": 2,
   "metadata": {
    "scrolled": true
   },
   "outputs": [],
   "source": [
    "# load the relevant packages\n",
    "import os\n",
    "import cv2\n",
    "import csv\n",
    "import numpy as np\n",
    "import pandas as pd\n",
    "import seaborn as sns\n",
    "from skimage import feature\n",
    "from pandas import DataFrame\n",
    "from skimage import morphology\n",
    "import matplotlib.pyplot as plt\n",
    "from sklearn import preprocessing\n",
    "from sklearn.metrics import accuracy_score\n",
    "#from skimage.restoration import denoise_tv_chambolle\n",
    "from sklearn.model_selection import train_test_split\n",
    "from skimage.restoration import denoise_tv_chambolle\n",
    "\n",
    "#set the desired width and height\n",
    "resize_factor = 100 # applies for both height and width\n",
    "\n",
    "#set path to the images\n",
    "path = 'images'\n",
    "target =  []\n",
    "datarepo = [] # List to append the images as 2D numpy arrays\n",
    "originalrepo = [] # Create a repo for flattened pixels\n",
    "binarisedrepo = []  # Create a list to append the binarised pixels\n",
    "hogrepo = [] # Create a list to append the HOG features\n",
    "denoiserepo = []\n",
    "\n",
    "for root, dirs, files in os.walk(path):\n",
    "     for file in files:\n",
    "        with open(os.path.join(root, file), \"r\") as auto:\n",
    "            if file != \".DS_Store\":\n",
    "                #pre-processing the data\n",
    "                #load each image\n",
    "                image = cv2.imread(root+'/'+file, 0)\n",
    "                 #resize each image\n",
    "                image = cv2.resize(image, (resize_factor, resize_factor))\n",
    "                #assign each image to datarepo\n",
    "                datarepo.append(image)\n",
    "                #flatten each image to origninaldata\n",
    "                originalrepo.append(image.flatten())\n",
    "                #denoise each image\n",
    "                image = denoise_tv_chambolle(image, multichannel=True)\n",
    "                denoiserepo.append(image.flatten())\n",
    "                #binarise each image\n",
    "                _, image = cv2.threshold(image, 180, 255, 0)\n",
    "                #flatten binarised images\n",
    "                binarisedrepo.append(image.flatten())\n",
    "                # Extract HOG and append to HOG repo\n",
    "                hogfeatures = hog.describe(image)\n",
    "                hogrepo.append(hogfeatures)\n",
    "                 # Append the folder where the image is to the target list\n",
    "                target.append(root.replace(path,'').replace('\\\\','')) \n",
    "                \n",
    "                \n",
    "# Convert the repo list into  numpy arrays\n",
    "originalrepo = np.array(originalrepo) \n",
    "binarisedrepo = np.array(binarisedrepo)\n",
    "hogrepo = np.array(hogrepo)\n",
    "denoiserepo = np.array(denoiserepo)"
   ]
  },
  {
   "cell_type": "markdown",
   "metadata": {},
   "source": [
    "### Calculating Class Distribution"
   ]
  },
  {
   "cell_type": "code",
   "execution_count": 3,
   "metadata": {
    "scrolled": true
   },
   "outputs": [
    {
     "name": "stdout",
     "output_type": "stream",
     "text": [
      "          Class  Number of Samples\n",
      "0    femalemask                348\n",
      "1  femalenomask                285\n",
      "2      malemask                355\n",
      "3    malenomask                285\n",
      "Total images: 1273\n"
     ]
    }
   ],
   "source": [
    "#relevant packages imported\n",
    "import numpy as np\n",
    "import pandas as pd\n",
    "import seaborn as sns\n",
    "from sklearn.svm import SVC\n",
    "from sklearn.metrics import confusion_matrix\n",
    "\n",
    "histo = [['Class','Number of Samples']]\n",
    "for i, label1 in enumerate(sorted(list(set(target)))):\n",
    "    cont = 0\n",
    "    for j, label2 in enumerate(target):\n",
    "        if label1 == label2:\n",
    "            cont+=1\n",
    "    histo.append([label1,cont])\n",
    "histo.append(['Total Samples', len(target)])\n",
    "\n",
    "# Load as a panda\n",
    "histo_panda = pd.DataFrame.from_records(histo[1:-1], columns=histo[0])\n",
    "print(histo_panda)\n",
    "print('Total images: '+str(len(target)))\n"
   ]
  },
  {
   "cell_type": "markdown",
   "metadata": {},
   "source": [
    "The results states that there is 348 instances of the class femalemask, 285 instances of the class femalenomask, 355 instances of the class malemask and 285 instances of the class malenomask. Overall, the original repository contains 1273 images stored as a numpy array and can be visualised with the barplot from seaborn below. "
   ]
  },
  {
   "cell_type": "markdown",
   "metadata": {},
   "source": [
    "#### Visualise Class Distribution"
   ]
  },
  {
   "cell_type": "code",
   "execution_count": 4,
   "metadata": {},
   "outputs": [
    {
     "data": {
      "image/png": "[encoded data removed]",
      "text/plain": [
       "<Figure size 720x432 with 1 Axes>"
      ]
     },
     "metadata": {
      "needs_background": "light"
     },
     "output_type": "display_data"
    },
    {
     "name": "stdout",
     "output_type": "stream",
     "text": [
      "Size of target:  1273\n",
      "Size of original repository:  (1273, 10000)\n",
      "Example of original repository: \n",
      "[[222 221 221 ... 242 246 250]\n",
      " [ 40  34  34 ...   0   0   0]\n",
      " [230 228 228 ...  91 111 114]\n",
      " ...\n",
      " [124 124 123 ...  88  95 102]\n",
      " [117 117 118 ... 255 255 255]\n",
      " [145 133 127 ...  66  64  63]]\n"
     ]
    }
   ],
   "source": [
    "\n",
    "# Create a histogram using seaborn\n",
    "sns_plot = sns.barplot(y=\"Class\", x=\"Number of Samples\", data=histo_panda, palette=\"Blues\")\n",
    "sns_plot.figure.set_size_inches(10,6)\n",
    "plt.show()\n",
    "\n",
    "\n",
    "print('Size of target: ', len(target))\n",
    "print('Size of original repository: ', originalrepo.shape)\n",
    "print('Example of original repository: ')\n",
    "print(originalrepo)"
   ]
  },
  {
   "cell_type": "markdown",
   "metadata": {},
   "source": [
    "This plot visualises how male mask has the most number of samples within the data frame with female masks being the second highest number of instances. With females without masks and males without masks with the next highest count repectively. This shows a class imbalance as there is more counts of images with masks than without mask and there is over double the number of males with masks than without.  "
   ]
  },
  {
   "cell_type": "markdown",
   "metadata": {},
   "source": [
    "##### Saved Plots as JPG Files"
   ]
  },
  {
   "cell_type": "code",
   "execution_count": 5,
   "metadata": {},
   "outputs": [
    {
     "name": "stdout",
     "output_type": "stream",
     "text": [
      "Saved Class Distribution Bar Chart\n"
     ]
    }
   ],
   "source": [
    "# Save the image\n",
    "sns_plot.figure.savefig('barchart.jpg', orientation = 'landscape', dpi = 600, transparent=True)\n",
    "print('Saved Class Distribution Bar Chart')"
   ]
  },
  {
   "cell_type": "markdown",
   "metadata": {},
   "source": [
    "#### Random OverSampling Repository "
   ]
  },
  {
   "cell_type": "markdown",
   "metadata": {},
   "source": [
    "Random OverSampling (ROS) is a data based imbalance handling techniques that is applied to the HOG repository. This aims to increase the minority class to provide a balanced dataset. There can be issues when using a non-binary datasets because it is more difficult to establish the minority class however the process is applied below and this augmentation is visualised in the following barplot.\n",
    "\n"
   ]
  },
  {
   "cell_type": "code",
   "execution_count": 6,
   "metadata": {},
   "outputs": [],
   "source": [
    "from imblearn.over_sampling import RandomOverSampler\n",
    "ros = RandomOverSampler(random_state=0)\n",
    "hogrepo_ros, target_ros = ros.fit_resample(hogrepo,target)\n"
   ]
  },
  {
   "cell_type": "markdown",
   "metadata": {},
   "source": [
    "#### Calculate the Distribution"
   ]
  },
  {
   "cell_type": "code",
   "execution_count": 7,
   "metadata": {},
   "outputs": [
    {
     "name": "stdout",
     "output_type": "stream",
     "text": [
      "\n",
      "Calculating class distribution (after ROS)\n",
      "          Class  Number of Samples\n",
      "0    femalemask                355\n",
      "1  femalenomask                355\n",
      "2      malemask                355\n",
      "3    malenomask                355\n",
      "Total images: 1420\n"
     ]
    }
   ],
   "source": [
    "from imblearn.over_sampling import RandomOverSampler\n",
    "ros = RandomOverSampler(random_state=0)\n",
    "hogrepo_ros, target_ros = ros.fit_resample(hogrepo,target)\n",
    "\n",
    "print('\\nCalculating class distribution (after ROS)')\n",
    "histo = [['Class','Number of Samples']]\n",
    "for i, label1 in enumerate(sorted(list(set(target_ros)))):\n",
    "    cont = 0\n",
    "    for j, label2 in enumerate(target_ros):\n",
    "        if label1 == label2:\n",
    "            cont+=1\n",
    "    histo.append([label1,cont])\n",
    "histo.append(['Total Samples', len(target_ros)])\n",
    "## Save the histogram as a .csv file   \n",
    "with open('classdistribution_ros.csv', 'w', newline='', encoding='utf-8') as csvfile:\n",
    "    filewriter = csv.writer(csvfile, delimiter=',')\n",
    "    for i, hist in enumerate(histo):\n",
    "        filewriter.writerow(hist)\n",
    "## Convert histo into a panda dataframe\n",
    "histo_panda = pd.DataFrame.from_records(histo[1:-1], columns=histo[0])\n",
    "print(histo_panda)\n",
    "print('Total images: '+str(len(target_ros)))\n"
   ]
  },
  {
   "cell_type": "markdown",
   "metadata": {},
   "source": [
    "#### Visualise Class Distribution After ROS"
   ]
  },
  {
   "cell_type": "code",
   "execution_count": 8,
   "metadata": {},
   "outputs": [
    {
     "name": "stdout",
     "output_type": "stream",
     "text": [
      "\n",
      "Showing class distribution bar chart (after ros)\n"
     ]
    },
    {
     "data": {
      "image/png": "[encoded data removed]",
      "text/plain": [
       "<Figure size 720x432 with 1 Axes>"
      ]
     },
     "metadata": {
      "needs_background": "light"
     },
     "output_type": "display_data"
    },
    {
     "name": "stdout",
     "output_type": "stream",
     "text": [
      "Size of ROS augmented target:  1420\n",
      "Size of ROS augmented repository:  (1420, 1800)\n",
      "Example of the ROS augmented repository: \n",
      "[[0. 0. 0. ... 0. 0. 0.]\n",
      " [0. 0. 0. ... 0. 0. 0.]\n",
      " [0. 0. 0. ... 0. 0. 0.]\n",
      " ...\n",
      " [0. 0. 0. ... 0. 0. 0.]\n",
      " [0. 0. 0. ... 0. 0. 0.]\n",
      " [0. 0. 0. ... 0. 0. 0.]]\n"
     ]
    }
   ],
   "source": [
    "## Create a histogram using seaborn\n",
    "sns_plot = sns.barplot(y=\"Class\", x=\"Number of Samples\", data=histo_panda, palette=\"Set2\")\n",
    "sns_plot.figure.set_size_inches(10,6)\n",
    "print('\\nShowing class distribution bar chart (after ros)')\n",
    "plt.show()\n",
    "\n",
    "print('Size of ROS augmented target: ', len(target_ros))\n",
    "print('Size of ROS augmented repository: ', hogrepo_ros.shape)\n",
    "print('Example of the ROS augmented repository: ')\n",
    "print(hogrepo_ros)"
   ]
  },
  {
   "cell_type": "markdown",
   "metadata": {},
   "source": [
    "Clearly the repository has been augmented from 1273 images with 10000, to 1420 images with 1800. Resulting in each class containing 350 instances each and more balanced. However as this is not a binary classification in which random oversampling is most effective on it will be further improved with the application of "
   ]
  },
  {
   "cell_type": "markdown",
   "metadata": {},
   "source": [
    "#### Save the image"
   ]
  },
  {
   "cell_type": "code",
   "execution_count": 9,
   "metadata": {},
   "outputs": [],
   "source": [
    "sns_plot.figure.savefig('barchart_ros.jpg', orientation = 'landscape', dpi = 600, transparent=True)\n"
   ]
  },
  {
   "cell_type": "markdown",
   "metadata": {},
   "source": [
    "### Class Imbalance"
   ]
  },
  {
   "cell_type": "markdown",
   "metadata": {},
   "source": [
    "To combat this class inbalance the following code will be introduced to create a function that will follow the standard balancing equation to calculate the k values for ech class. This will obtain the number of classes in label list and sort"
   ]
  },
  {
   "cell_type": "markdown",
   "metadata": {},
   "source": [
    "As this is a  non-Binary datasets they have different class sizes  a special category of balancing methods can be applied to the datasets, which also mitigate the disadvantages of both oversampling and undersampling\n",
    "\n",
    "The Standard Balancing Equation can help calculate the imbalances with the number of clusters representing the total number of instances of a specific class divided by the mean class distribution. A function below is created to follows the standard balancing equation to calculate k for each class.\n"
   ]
  },
  {
   "cell_type": "markdown",
   "metadata": {},
   "source": [
    "#### K Using Standard Balancing Equation"
   ]
  },
  {
   "cell_type": "code",
   "execution_count": 10,
   "metadata": {},
   "outputs": [
    {
     "name": "stdout",
     "output_type": "stream",
     "text": [
      "Values of k for each class:  [2, 1, 2, 1]\n",
      "Number of classes after class decomposition:  6\n"
     ]
    }
   ],
   "source": [
    "def standardbalancingequation(target):\n",
    "    import math\n",
    "    \n",
    "    ## Obtain the number of classes in label list and sort\n",
    "    labelsIndexesUnique = list(set(target))\n",
    "    labelsIndexesUnique.sort()\n",
    "    \n",
    "    ## For each class, count the number of instances and calculate ki\n",
    "    k = []\n",
    "    for label in labelsIndexesUnique:\n",
    "        k.append(target.count(label))\n",
    "    avgInst = sum(k)/len(k)\n",
    "    k = [math.floor((ki/avgInst)+1) for ki in k]\n",
    "    print('Values of k for each class: ', k)\n",
    "    return k\n",
    "\n",
    "k_kmeans = standardbalancingequation(target)\n",
    "print('Number of classes after class decomposition: ', sum(k_kmeans))\n"
   ]
  },
  {
   "cell_type": "markdown",
   "metadata": {},
   "source": [
    "#### Class Decomposition(CD) Using KMeans"
   ]
  },
  {
   "cell_type": "code",
   "execution_count": 11,
   "metadata": {},
   "outputs": [
    {
     "name": "stdout",
     "output_type": "stream",
     "text": [
      "Number of clusters for class femalemask: 2\n",
      "Number of clusters for class femalenomask: 1\n",
      "Number of clusters for class malemask: 2\n",
      "Number of clusters for class malenomask: 1\n"
     ]
    }
   ],
   "source": [
    "def CDKmeans(data, target, k): \n",
    "    from sklearn.cluster import KMeans\n",
    "    target_cd = ['']*len(target)\n",
    "    IndexesUnique = list(set(target))\n",
    "    IndexesUnique.sort()\n",
    "    for i, label in enumerate(IndexesUnique):\n",
    "        print('Number of clusters for class '+str(label)+': '+str(k[i]))\n",
    "        \n",
    "        ## Split the dataset\n",
    "        data_tocluster = []\n",
    "        data_tocluster_index = []\n",
    "        for j, dat in enumerate(data):\n",
    "            if target[j]==label:\n",
    "                data_tocluster.append(dat)\n",
    "                data_tocluster_index.append(j)\n",
    "        if 1<k[i]<=len(data_tocluster):\n",
    "            \n",
    "                ## Apply k-means to the list    \n",
    "                kmeans = KMeans(n_clusters=k[i], random_state=0).fit(data_tocluster)\n",
    "                for n, m in enumerate(kmeans.labels_):\n",
    "                    target_cd[data_tocluster_index[n]]=str(label)+'_c'+str(m)\n",
    "        else:\n",
    "            for m in data_tocluster_index:\n",
    "                target_cd[m]=str(label)+'_c0'\n",
    "    return target_cd\n",
    "\n",
    "target_cd = CDKmeans(binarisedrepo, target, k_kmeans)\n"
   ]
  },
  {
   "cell_type": "markdown",
   "metadata": {},
   "source": [
    "As femalenomask and malenomask is smaller than 2 no clustering is needed. However, femalemask and malemask all have values over 2 therefore floor is applied to give the correct clusters."
   ]
  },
  {
   "cell_type": "markdown",
   "metadata": {},
   "source": [
    "#### Calculating Class Distribution After Class Decomposition"
   ]
  },
  {
   "cell_type": "code",
   "execution_count": 12,
   "metadata": {},
   "outputs": [
    {
     "name": "stdout",
     "output_type": "stream",
     "text": [
      "             Class  Number of Samples\n",
      "0    femalemask_c0                348\n",
      "1  femalenomask_c0                285\n",
      "2      malemask_c0                355\n",
      "3    malenomask_c0                285\n",
      "Total images: 1273\n"
     ]
    }
   ],
   "source": [
    "\n",
    "histo = [['Class','Number of Samples']]\n",
    "for i, label1 in enumerate(sorted(list(set(target_cd)))):\n",
    "    cont = 0\n",
    "    for j, label2 in enumerate(target_cd):\n",
    "        if label1 == label2:\n",
    "            cont+=1\n",
    "    histo.append([label1,cont])\n",
    "histo.append(['Total Samples', len(target_cd)])\n",
    "\n",
    "        \n",
    "## Convert histo into a panda dataframe\n",
    "histo_panda = pd.DataFrame.from_records(histo[1:-1], columns=histo[0])\n",
    "print(histo_panda)\n",
    "print('Total images: '+str(len(target_cd)))\n"
   ]
  },
  {
   "cell_type": "markdown",
   "metadata": {},
   "source": [
    "As a result of the class decomposition method, the size of the augmented pixel repository has remained 1236 rows with 1800 columns. Creating two more classes for the \"original\" repository and placed within target_cd. The repository consists of the 2 female mask classifiers, femalemask_c0 with 64 and femalemask_c1 with 279. A classifier for females without masks (femalenomask_c0) with 277, a classifier for males without masks (malenomask_c0) with 197. With finally 2 male mask classifiers, malemask_c0 with 274 and malemask_c1 with 145. Overall creating six classes in this class decomposition repository.\n",
    "\n",
    "This repository will be converted into a pandas dataframe named original_cd and its class distribution can be visualised below with a barplot. "
   ]
  },
  {
   "cell_type": "markdown",
   "metadata": {},
   "source": [
    "###### Visualise Class Distribution After Class Decomposition"
   ]
  },
  {
   "cell_type": "code",
   "execution_count": 13,
   "metadata": {},
   "outputs": [
    {
     "data": {
      "image/png": "[encoded data removed]",
      "text/plain": [
       "<Figure size 720x432 with 1 Axes>"
      ]
     },
     "metadata": {
      "needs_background": "light"
     },
     "output_type": "display_data"
    }
   ],
   "source": [
    "## Create a histogram using seaborn\n",
    "sns_plot = sns.barplot(y=\"Class\", x=\"Number of Samples\", data=histo_panda, palette = 'pastel')\n",
    "sns_plot.figure.set_size_inches(10,6)\n",
    "plt.show()"
   ]
  },
  {
   "cell_type": "markdown",
   "metadata": {},
   "source": [
    "##### Saved Plots as JPG Files"
   ]
  },
  {
   "cell_type": "code",
   "execution_count": 14,
   "metadata": {},
   "outputs": [],
   "source": [
    "## Save the image\n",
    "sns_plot.figure.savefig('barchart_cd.jpg', orientation = 'landscape', dpi = 600, transparent=True)\n"
   ]
  },
  {
   "cell_type": "markdown",
   "metadata": {},
   "source": [
    "### Repositories as CSV Files "
   ]
  },
  {
   "cell_type": "markdown",
   "metadata": {},
   "source": [
    "Each Numpy data frame is converted to a csv file.\n",
    "\n",
    " - Original repository of images resized and flattened saved as 'originalrepo.csv'\n",
    " - Binarised repository of images resized, binarised and flattened  saved as 'binarisedrepo.csv'\n",
    " - Hog feature extraction repository of images resized, binarised, hog features extracted and flattened saved as 'hogrepo.csv'\n",
    " - Class Decomposition repository of images resized, binarised, hog features extracted and flattened with class decomposition applied and flattened. Then saved as 'original_cd.csv'. "
   ]
  },
  {
   "cell_type": "markdown",
   "metadata": {},
   "source": [
    "#### Original Repository\n"
   ]
  },
  {
   "cell_type": "code",
   "execution_count": 15,
   "metadata": {},
   "outputs": [
    {
     "name": "stdout",
     "output_type": "stream",
     "text": [
      "\n",
      " originalrepo saved as originalrepo.csv\n"
     ]
    }
   ],
   "source": [
    "with open('originalrepo.csv', 'w', newline='', encoding='utf-8') as csvfile:\n",
    "    filewriter = csv.writer(csvfile, delimiter=',')\n",
    "    for i, h in enumerate(originalrepo):\n",
    "        row = np.concatenate((h,[target[i]]))\n",
    "        filewriter.writerow(row)\n",
    "\n",
    "print('\\n originalrepo saved as originalrepo.csv') "
   ]
  },
  {
   "cell_type": "markdown",
   "metadata": {},
   "source": [
    "#### Denoised Repository"
   ]
  },
  {
   "cell_type": "code",
   "execution_count": 16,
   "metadata": {},
   "outputs": [
    {
     "name": "stdout",
     "output_type": "stream",
     "text": [
      "\n",
      " denoiserepo saved as denoiserepo.csv\n"
     ]
    }
   ],
   "source": [
    "with open('denoiserepo.csv', 'w', newline='', encoding='utf-8') as csvfile:\n",
    "    filewriter = csv.writer(csvfile, delimiter=',')\n",
    "    for i, l in enumerate(denoiserepo):\n",
    "        row = np.concatenate((l,[target[i]]))\n",
    "        filewriter.writerow(row)\n",
    "print('\\n denoiserepo saved as denoiserepo.csv') "
   ]
  },
  {
   "cell_type": "markdown",
   "metadata": {},
   "source": [
    "#### Hog Features Repository"
   ]
  },
  {
   "cell_type": "code",
   "execution_count": 17,
   "metadata": {},
   "outputs": [
    {
     "name": "stdout",
     "output_type": "stream",
     "text": [
      "\n",
      " hogrepo saved as hogrepo.csv\n"
     ]
    }
   ],
   "source": [
    "with open('hogrepo.csv', 'w', newline='', encoding='utf-8') as csvfile:\n",
    "    filewriter = csv.writer(csvfile, delimiter=',')\n",
    "    for i, h in enumerate(hogrepo):\n",
    "        row = np.concatenate((h,[target[i]]))\n",
    "        filewriter.writerow(row)\n",
    "\n",
    "print('\\n hogrepo saved as hogrepo.csv')  \n"
   ]
  },
  {
   "cell_type": "markdown",
   "metadata": {},
   "source": [
    "#### Binarised Repository"
   ]
  },
  {
   "cell_type": "code",
   "execution_count": 18,
   "metadata": {},
   "outputs": [
    {
     "name": "stdout",
     "output_type": "stream",
     "text": [
      "\n",
      " binarisedrepo saved as binarisedrepo.csv\n"
     ]
    }
   ],
   "source": [
    "with open('binarisedrepo.csv', 'w', newline='', encoding='utf-8') as csvfile:\n",
    "    filewriter = csv.writer(csvfile, delimiter=',')\n",
    "    for i, l in enumerate(binarisedrepo):\n",
    "        row = np.concatenate((l,[target[i]]))\n",
    "        filewriter.writerow(row)\n",
    "print('\\n binarisedrepo saved as binarisedrepo.csv')  "
   ]
  },
  {
   "cell_type": "markdown",
   "metadata": {},
   "source": [
    "#### ROS Repository"
   ]
  },
  {
   "cell_type": "code",
   "execution_count": 19,
   "metadata": {},
   "outputs": [
    {
     "name": "stdout",
     "output_type": "stream",
     "text": [
      "\n",
      "hog_ros saved as hog_ros.csv\n"
     ]
    }
   ],
   "source": [
    "\n",
    "with open('hog_ros.csv', 'w', newline='', encoding='utf-8') as csvfile:\n",
    "    filewriter = csv.writer(csvfile, delimiter=',')\n",
    "    for i, h in enumerate(hogrepo_ros):\n",
    "        row = np.concatenate((h,[target_ros[i]]))\n",
    "        filewriter.writerow(row)\n",
    "        \n",
    "print('\\nhog_ros saved as hog_ros.csv') "
   ]
  },
  {
   "cell_type": "markdown",
   "metadata": {},
   "source": [
    "#### Class Decomposition Repository"
   ]
  },
  {
   "cell_type": "code",
   "execution_count": 20,
   "metadata": {},
   "outputs": [
    {
     "name": "stdout",
     "output_type": "stream",
     "text": [
      "\n",
      " original_cd saved as original_cd.csv\n"
     ]
    }
   ],
   "source": [
    "   with open('original_cd.csv', 'w', newline='', encoding='utf-8') as csvfile:\n",
    "    filewriter = csv.writer(csvfile, delimiter=',')\n",
    "    for i, pix in enumerate(originalrepo):\n",
    "        row = np.concatenate((pix,[target_cd[i]]))\n",
    "        filewriter.writerow(row)\n",
    "        \n",
    "print('\\n original_cd saved as original_cd.csv')"
   ]
  },
  {
   "cell_type": "markdown",
   "metadata": {},
   "source": [
    "3. Implementation of a validation framework where the student compares the performance between the\n",
    "generated data sets and different classification algorithms (e.g. Support Vector Machine, Random Forests,\n",
    "Neural Networks, Convolutional Neural Networks, etc.). The student must discuss the metrics to be used (e.g.\n",
    "accuracy, precision, recall, etc.) and the experimental setting (simple split, cross-validation, leave-one-out,\n",
    "etc.).\n",
    "\n",
    "The student explained\n",
    "and justified the\n",
    "experimental setting in\n",
    "quality close to a\n",
    "scientific paper.\n",
    "A wide variety of\n",
    "classification algorithms\n",
    "and parameter settings\n",
    "are implemented with\n",
    "optimal code, showing a\n",
    "deep understanding of\n",
    "machine learning by\n",
    "explaining and justifying\n",
    "the methods and\n",
    "parameters.\n",
    "Results are presented in\n",
    "quality close to a\n",
    "scientific paper, using\n",
    "the most proper metrics\n",
    "and visualisation\n",
    "resources for the given\n",
    "scenario.\n",
    "\n"
   ]
  },
  {
   "cell_type": "markdown",
   "metadata": {},
   "source": [
    "## 3. Comparing Classification Algorithms"
   ]
  },
  {
   "cell_type": "markdown",
   "metadata": {},
   "source": [
    "In total, there has been 5 datasets created. To evaluate datasets on their accuracy to classify female and males with masks and no mask. Each dataset will be split into a train and test set.The data will be split with 80% of the data kept for training the model and 20% used to test the model. Where then 3 algorithms such as Support Vectore Machine Classifier, Random Forest Classifier, Neural Network and Convolutional Neural Networks will be applied to all five repositories and stuctured such as:\n",
    "\n",
    "3.1 Original Repository \n",
    " - 3.1.1 Support Vectore Machine\n",
    " - 3.1.2 Random Forest Classifier\n",
    " - 3.1.3 Neural Network\n",
    " - 3.1.4 Convolutional Neural Networks\n",
    "  \n",
    "3.2 Binarised Repository \n",
    " - 3.2.1 Support Vectore Machine\n",
    " - 3.2.2 Random Forest Classifier\n",
    " - 3.2.3 Neural Network\n",
    " - 3.2.4 Convolutional Neural Networks\n",
    "\n",
    "3.3 Hog Repository \n",
    " - 3.3.1 Support Vectore Machine\n",
    " - 3.3.2 Random Forest Classifier\n",
    " - 3.3.3 Neural Network\n",
    " - 3.3.4 Convolutional Neural Networks\n",
    "\n",
    "3.4 ROS Repository\n",
    " - 3.4.1 Support Vectore Machine\n",
    " - 3.4.2 Random Forest Classifier\n",
    " - 3.4.3 Neural Network\n",
    " - 3.4.4 Convolutional Neural Networks\n",
    "\n",
    "3.5 Class Decomposition Repository \n",
    " - 3.5.1 Support Vectore Machine\n",
    " - 3.5.2 Random Forest Classifier\n",
    " - 3.5.3 Neural Network\n",
    " - 3.5.4 Convolutional Neural Networks"
   ]
  },
  {
   "cell_type": "markdown",
   "metadata": {},
   "source": [
    "### Original Repository"
   ]
  },
  {
   "cell_type": "markdown",
   "metadata": {},
   "source": [
    "For each repository, Support Vector Machine and Random Forest will be applied to the dataset before a cross validation function measures the accuracy of each classifier. "
   ]
  },
  {
   "cell_type": "markdown",
   "metadata": {},
   "source": [
    "##### Split the Data Set"
   ]
  },
  {
   "cell_type": "markdown",
   "metadata": {},
   "source": [
    "Using scitkitlearns train_test_split function will allow the data to be split 80% of data into the training set and 20% split into a testing set. This will be stratified to provide an optimum split. Both classifiers are fit to their model with the training dataset before making the prediction model using the test set in each case respectively. This is shown below in section 1.1 and 1.1. "
   ]
  },
  {
   "cell_type": "code",
   "execution_count": 37,
   "metadata": {},
   "outputs": [],
   "source": [
    "# Set random seed for reproducibility\n",
    "np.random.seed(123)"
   ]
  },
  {
   "cell_type": "code",
   "execution_count": 21,
   "metadata": {
    "scrolled": true
   },
   "outputs": [],
   "source": [
    "# import the relevant packages\n",
    "from sklearn.model_selection import train_test_split\n",
    "target = np.array(target)\n",
    "# split the data into training and testing sets\n",
    "X_train, X_test, y_train, y_test = train_test_split(originalrepo, target, stratify=target, test_size=0.2)\n"
   ]
  },
  {
   "cell_type": "markdown",
   "metadata": {},
   "source": [
    "#### Support Vector Machine(SVM) "
   ]
  },
  {
   "cell_type": "code",
   "execution_count": 37,
   "metadata": {},
   "outputs": [],
   "source": [
    "# Set random seed for reproducibility\n",
    "np.random.seed(123)"
   ]
  },
  {
   "cell_type": "code",
   "execution_count": 22,
   "metadata": {},
   "outputs": [],
   "source": [
    "#import Support Vector Classifier\n",
    "from sklearn.svm import SVC\n",
    "\n",
    "# initiatiate the SVC\n",
    "svc_model = SVC()\n",
    "\n",
    "# fit theclassifier to the training data\n",
    "svc_fit = svc_model.fit(X_train, y_train)\n",
    "\n",
    "# predict the model with the test data\n",
    "svc_pred = svc_model.predict(X_test)"
   ]
  },
  {
   "cell_type": "markdown",
   "metadata": {},
   "source": [
    "##### Random Forest "
   ]
  },
  {
   "cell_type": "code",
   "execution_count": 37,
   "metadata": {},
   "outputs": [],
   "source": [
    "# Set random seed for reproducibility\n",
    "np.random.seed(123)"
   ]
  },
  {
   "cell_type": "code",
   "execution_count": 23,
   "metadata": {},
   "outputs": [],
   "source": [
    "#import RandomForestClassifier\n",
    "from sklearn.ensemble import RandomForestClassifier\n",
    "\n",
    "# initiatiate the RandomForestClassifier\n",
    "rf_model = RandomForestClassifier()\n",
    "\n",
    "# fit the classifier to the training data\n",
    "rf_fit = rf_model.fit(X_train, y_train)\n",
    "\n",
    "# predict the model with the test data\n",
    "rf_pred = rf_model.predict(X_test)\n"
   ]
  },
  {
   "cell_type": "markdown",
   "metadata": {},
   "source": [
    "####  Accuracy of the Model"
   ]
  },
  {
   "cell_type": "code",
   "execution_count": 24,
   "metadata": {},
   "outputs": [
    {
     "name": "stdout",
     "output_type": "stream",
     "text": [
      "Mean Accuracy for SVM:  0.5592465647676393\n",
      "Mean Accuracy for RF:  0.5317153002933457\n"
     ]
    }
   ],
   "source": [
    "# Evaluating Mean Accuracy for all folds\n",
    "from sklearn.model_selection import cross_validate\n",
    "from sklearn.model_selection import cross_val_score\n",
    "print('Mean Accuracy for SVM: ',np.mean(cross_val_score(svc_model, originalrepo, target, cv=5, scoring = 'accuracy')))\n",
    "print('Mean Accuracy for RF: ',np.mean(cross_val_score(rf_model, originalrepo, target, cv=5, scoring = 'accuracy')))"
   ]
  },
  {
   "cell_type": "markdown",
   "metadata": {},
   "source": [
    "The accuracy of the Support Vector Machine is 56%. This is an improvement on the the 25% chance without a classifier. The number of true positives in the 101 which is higher than 83 number of true negatives. However there is more false positive than false negatives. This suggest the classifier is 53% more likely to identify the correct class than not. "
   ]
  },
  {
   "cell_type": "markdown",
   "metadata": {},
   "source": [
    "When true positive + false positive == 0, precision returns 0 and raises UndefinedMetricWarning. This behavior can be modified with zero_division."
   ]
  },
  {
   "cell_type": "code",
   "execution_count": 25,
   "metadata": {},
   "outputs": [],
   "source": [
    "from sklearn.metrics import make_scorer, accuracy_score, precision_score, recall_score, f1_score\n",
    "from sklearn.model_selection import cross_val_score\n",
    "\n",
    "#scoring = {'accuracy' : make_scorer(accuracy_score), \n",
    "#           'precision' : make_scorer(precision_score)}\n",
    "\n",
    "#precision_score(y_test, rf_pred, average='micro', zero_division=1)\n"
   ]
  },
  {
   "cell_type": "markdown",
   "metadata": {},
   "source": [
    "#### NN "
   ]
  },
  {
   "cell_type": "markdown",
   "metadata": {},
   "source": [
    "In order to run a neural network on the dataset these five steps are applied:\n",
    "    \n",
    " 1. Flatten the input image dimensions to 1D (width pixels x height pixels)\n",
    " 2. One-Hot Encode the categorical column\n",
    " 3. Build a model architecture (Sequential) with Dense layers\n",
    " 4. Train the model and make predictions"
   ]
  },
  {
   "cell_type": "markdown",
   "metadata": {},
   "source": [
    "In order to implement one hot encoding the number of classes and the label of the classes to set each convert them to numerical values to be apply to train input into the neural network. The shape of the dataset and the target set can be checked to ensure it has the correct shape."
   ]
  },
  {
   "cell_type": "code",
   "execution_count": 37,
   "metadata": {},
   "outputs": [],
   "source": [
    "# Set random seed for reproducibility\n",
    "np.random.seed(123)"
   ]
  },
  {
   "cell_type": "code",
   "execution_count": 38,
   "metadata": {
    "scrolled": false
   },
   "outputs": [],
   "source": [
    "# Create Keras backend environment for CNN\n",
    "os.environ['KERAS_BACKEND']='tensorflow'\n"
   ]
  },
  {
   "cell_type": "code",
   "execution_count": 26,
   "metadata": {},
   "outputs": [],
   "source": [
    "\n",
    "#convert target dataset to a numpy array for the NN\n",
    "target = np.array(target)\n",
    "\n",
    "# The number of image categories\n",
    "n_categories = 4\n",
    "\n",
    "# The unique values of categories in the data\n",
    "categories = np.array([\"femalemask\", \"femalenomask\", \"malemask\", \"malenomask\"])\n",
    "\n",
    "# Initialize ohe_labels as all zeros\n",
    "ohe_labels = np.zeros((len(target), n_categories))\n",
    "\n",
    "# Loop over the labels\n",
    "for ii in range(len(target)):\n",
    "    # Find the location of this label in the categories variable\n",
    "    jj = np.where(categories== target[ii])\n",
    "    # Set the corresponding zero to one\n",
    "    ohe_labels[ii, jj] = 1"
   ]
  },
  {
   "cell_type": "code",
   "execution_count": 27,
   "metadata": {},
   "outputs": [
    {
     "name": "stdout",
     "output_type": "stream",
     "text": [
      "(1273, 10000) (1273, 4) (1273, 10000) (1273, 4)\n"
     ]
    }
   ],
   "source": [
    "print(originalrepo.shape, ohe_labels.shape, originalrepo.shape, ohe_labels.shape)"
   ]
  },
  {
   "cell_type": "code",
   "execution_count": 29,
   "metadata": {},
   "outputs": [
    {
     "name": "stdout",
     "output_type": "stream",
     "text": [
      "Training for fold 0\n",
      "Epoch 1/5\n",
      "204/204 [==============================] - 2s 4ms/step - loss: 16.6716 - accuracy: 0.2307\n",
      "Epoch 2/5\n",
      "204/204 [==============================] - 1s 4ms/step - loss: 1.3854 - accuracy: 0.2689\n",
      "Epoch 3/5\n",
      "204/204 [==============================] - 1s 4ms/step - loss: 1.3856 - accuracy: 0.2658\n",
      "Epoch 4/5\n",
      "204/204 [==============================] - 1s 3ms/step - loss: 1.3822 - accuracy: 0.2815\n",
      "Epoch 5/5\n",
      "204/204 [==============================] - 0s 2ms/step - loss: 1.3809 - accuracy: 0.2814\n",
      "8/8 [==============================] - 0s 3ms/step - loss: 1.3810 - accuracy: 0.2784\n",
      "Score for fold 1: loss of 1.3810449838638306; accuracy of 27.843138575553894%\n",
      "Training for fold 1\n",
      "Epoch 1/5\n",
      "204/204 [==============================] - 2s 4ms/step - loss: 26.5383 - accuracy: 0.2756\n",
      "Epoch 2/5\n",
      "204/204 [==============================] - 1s 4ms/step - loss: 1.3847 - accuracy: 0.2761\n",
      "Epoch 3/5\n",
      "204/204 [==============================] - 1s 4ms/step - loss: 1.3841 - accuracy: 0.2740\n",
      "Epoch 4/5\n",
      "204/204 [==============================] - 1s 4ms/step - loss: 1.3801 - accuracy: 0.2950\n",
      "Epoch 5/5\n",
      "204/204 [==============================] - 1s 3ms/step - loss: 1.3805 - accuracy: 0.2784\n",
      "8/8 [==============================] - 0s 3ms/step - loss: 1.3811 - accuracy: 0.2784\n",
      "Score for fold 2: loss of 1.3810569047927856; accuracy of 27.843138575553894%\n",
      "Training for fold 2\n",
      "Epoch 1/5\n",
      "204/204 [==============================] - 2s 4ms/step - loss: 125.5115 - accuracy: 0.3036\n",
      "Epoch 2/5\n",
      "204/204 [==============================] - 1s 4ms/step - loss: 1.3839 - accuracy: 0.2753\n",
      "Epoch 3/5\n",
      "204/204 [==============================] - 1s 3ms/step - loss: 1.3818 - accuracy: 0.2961\n",
      "Epoch 4/5\n",
      "204/204 [==============================] - 0s 2ms/step - loss: 1.3823 - accuracy: 0.2676\n",
      "Epoch 5/5\n",
      "204/204 [==============================] - 1s 4ms/step - loss: 1.3818 - accuracy: 0.2763\n",
      "8/8 [==============================] - 0s 5ms/step - loss: 1.3812 - accuracy: 0.2784\n",
      "Score for fold 3: loss of 1.3811827898025513; accuracy of 27.843138575553894%\n",
      "Training for fold 3\n",
      "Epoch 1/5\n",
      "204/204 [==============================] - 2s 4ms/step - loss: 71.3340 - accuracy: 0.2465\n",
      "Epoch 2/5\n",
      "204/204 [==============================] - 1s 4ms/step - loss: 1.3860 - accuracy: 0.2628\n",
      "Epoch 3/5\n",
      "204/204 [==============================] - 1s 4ms/step - loss: 1.3814 - accuracy: 0.3011\n",
      "Epoch 4/5\n",
      "204/204 [==============================] - 1s 3ms/step - loss: 1.3807 - accuracy: 0.2892\n",
      "Epoch 5/5\n",
      "204/204 [==============================] - 1s 3ms/step - loss: 1.3784 - accuracy: 0.3053\n",
      "8/8 [==============================] - 0s 6ms/step - loss: 1.3814 - accuracy: 0.2795\n",
      "Score for fold 4: loss of 1.381369948387146; accuracy of 27.952754497528076%\n",
      "Training for fold 4\n",
      "Epoch 1/5\n",
      "204/204 [==============================] - 2s 3ms/step - loss: 50.6149 - accuracy: 0.2613\n",
      "Epoch 2/5\n",
      "204/204 [==============================] - 1s 3ms/step - loss: 1.3846 - accuracy: 0.2856\n",
      "Epoch 3/5\n",
      "204/204 [==============================] - 1s 3ms/step - loss: 1.3825 - accuracy: 0.2523\n",
      "Epoch 4/5\n",
      "204/204 [==============================] - 1s 4ms/step - loss: 1.3836 - accuracy: 0.2651\n",
      "Epoch 5/5\n",
      "204/204 [==============================] - 1s 3ms/step - loss: 1.3810 - accuracy: 0.2847\n",
      "8/8 [==============================] - 1s 3ms/step - loss: 1.3814 - accuracy: 0.2795\n",
      "Score for fold 5: loss of 1.381407380104065; accuracy of 27.952754497528076%\n"
     ]
    }
   ],
   "source": [
    "# Import relevant packages\n",
    "from sklearn.metrics import make_scorer, accuracy_score, precision_score, recall_score, f1_score\n",
    "from sklearn.model_selection import cross_val_score\n",
    "from sklearn.model_selection import KFold\n",
    "from keras.models import Sequential\n",
    "from keras.layers import Dense, Conv2D, Dropout, Flatten, MaxPooling2D\n",
    "from tensorflow.keras import datasets, layers, models\n",
    "from keras.layers import Dense, Dropout, Conv2D, MaxPool2D, Flatten\n",
    "from keras.utils import np_utils\n",
    "from sklearn.model_selection import StratifiedKFold\n",
    "\n",
    "fold_no = 1\n",
    "# Define per-fold score containers <-- these are new\n",
    "acc_per_fold_nn = []\n",
    "loss_per_fold_nn = []\n",
    "# Define the K-fold Cross Validator\n",
    "kfold = StratifiedKFold(n_splits=5, shuffle=True)\n",
    "data = originalrepo\n",
    "\n",
    "for i, (train_index, val_index) in enumerate(kfold.split(data, ohe_labels.argmax(1))):\n",
    "    x_train_kf, x_val_kf = data[train_index], data[val_index]\n",
    "    y_train_kf, y_val_kf = ohe_labels[train_index], ohe_labels[val_index]\n",
    "    \n",
    "    nn_model = Sequential()\n",
    "    nn_model.add(Dense(10, input_shape=(10000,), activation='relu'))\n",
    "    nn_model.add(Dense(10, activation='relu'))\n",
    "    nn_model.add(Dense(4, activation='sigmoid'))\n",
    "\n",
    "    # Compile the model\n",
    "    nn_model.compile(loss='categorical_crossentropy', optimizer='adam', metrics=['accuracy'])\n",
    "\n",
    "    # Generate a print\n",
    "    print(f'Training for fold {i}')\n",
    "\n",
    "    # Fit data to model\n",
    "    history = nn_model.fit(x_train_kf, y_train_kf,\n",
    "    batch_size=5,\n",
    "    epochs=5)\n",
    "\n",
    "    # Generate generalization metrics\n",
    "    scores = nn_model.evaluate(x_val_kf, y_val_kf)\n",
    "    print(f'Score for fold {fold_no}: {nn_model.metrics_names[0]} of {scores[0]}; {nn_model.metrics_names[1]} of {scores[1]*100}%')\n",
    "    acc_per_fold_nn.append(scores[1] * 100)\n",
    "    loss_per_fold_nn.append(scores[0])\n",
    "\n",
    "    # Increase fold number\n",
    "    fold_no = fold_no + 1"
   ]
  },
  {
   "cell_type": "markdown",
   "metadata": {},
   "source": [
    "To evaluate the model, we use a separate test data-set. As in the train data, the images in the test data also need to be reshaped before they can be provided to the fully-connected network because the network expects one column per pixel in the input."
   ]
  },
  {
   "cell_type": "code",
   "execution_count": null,
   "metadata": {},
   "outputs": [],
   "source": []
  },
  {
   "cell_type": "markdown",
   "metadata": {},
   "source": [
    "The accuracy of this neural network only has a 33% accuracy of predicting the correct classifier. This is very low accuracy however it is still an improvement compared to the 25% chance without using any classify. "
   ]
  },
  {
   "cell_type": "markdown",
   "metadata": {},
   "source": [
    "### CNN"
   ]
  },
  {
   "cell_type": "markdown",
   "metadata": {},
   "source": [
    "CNN can classify and extract their own features therefore there is no need to use the hog dataset. This is why CNN will be used on the image repository. Thesefore the data will be split again using the datarepo and the target_cd.\n",
    "The images are all 100 by 100 images coloured imaged. The CNN will compute 32 filters over the input with a response map that is 26 x 26 in size. The siz of the patches is 3 x 3 and the depth of the output feature map is 32. Max pooling extracts windows from the input much like a convolution and halves the feature map."
   ]
  },
  {
   "cell_type": "markdown",
   "metadata": {},
   "source": [
    "relu function is a linear function but before the activation point gives you zero.  \n",
    "\n",
    "fully connected NN is when all inputs are connected to  all neurons in the first hidden layer. \n",
    "Then all neurons connect to a single neuron(second hidden layer) which produces the output.\n",
    " \n",
    "A logistic regression calculates the probability of an input to be 0 or 1 \n",
    "\n",
    "since we need to predict the probabiliry of a sample being 0 or 1 we need to set the activation function for th epredicted output to something more suitable\n",
    "relu can give 0 or 1 \n",
    "sigmoid function is most popular \n",
    "\n",
    "loss function\n",
    "you want to produce an expected output relevant output\n",
    "the initial hyptheses \n",
    "helps you find how far you are from the actual values\n",
    "\n",
    "the mathematical functio nhehind loss function wants the smallests value possible.\n",
    "\n",
    "cost function helps calculates the weights and the bias. the more training data you have you can average more when you calculate your loss\n",
    "the cost function depends on the training function\n",
    "\n",
    "gradient descent \n",
    "you want to find wight and ias that minisiase the cost\n",
    "you get a 3d function valuing your cost\n",
    "\n",
    "alpha is the learning rate gives a difference neature when you train the neural network\n",
    "\n",
    "\n",
    "when you calculate and you update the weight bias it is referred to as back propagation \n",
    "you need to pass the image through the network and pass it back \n",
    "you pass a batch of data \n"
   ]
  },
  {
   "cell_type": "markdown",
   "metadata": {},
   "source": [
    "Now it's time to train the model. We will define a sequential CNN with two convolutional layers, a max pooling of size 2×2 and a dropout of 0.25. Then, we will add a flatten layer, add a densely connected layer with a ReLu activation, afterwards add another dropout of 0.5, and finally add a densely connected layer to the output with a softmax activation function. This configuration is not strict and you can find many different examples, such as this other one. NOTE: If you get an error, you may need to change the input_shape to (1,28,28), which means that you also need to change the shape of X_train_reshape and X_test_reshape to (X.shape[0],1,28,28).\n"
   ]
  },
  {
   "cell_type": "markdown",
   "metadata": {},
   "source": [
    "Reshape the data into four dimensions i.e. the training set will be of shape (60000,28,28,1) and the test set of (10000,28,28). This is useful since the network needs an input shape of (1,28,28) for each of the samples.\n",
    "\n",
    "Convert the format of the input into float32 (apparently the CNN works better with it).\n",
    "\n",
    "Normalise i.e. divide all values by 255."
   ]
  },
  {
   "cell_type": "markdown",
   "metadata": {},
   "source": [
    "It will be transformed from standard to normalised grayscale by dividing the numpyarray by 255 before reducing noise to help improve the image for feature extraction."
   ]
  },
  {
   "cell_type": "markdown",
   "metadata": {},
   "source": [
    "CNNs also like their target to be categorical, i.e. instead of the target being values from 0 to 9, each target value will be a vector indicating which is the class according to the position. Run the following cell to see what I mean."
   ]
  },
  {
   "cell_type": "markdown",
   "metadata": {},
   "source": [
    "X_train shape (988, 100, 100, 1)\n",
    "y_train shape (988, 4)\n",
    "X_test shape (248, 100, 100, 1)\n",
    "y_test shape (248, 4)"
   ]
  },
  {
   "cell_type": "markdown",
   "metadata": {},
   "source": [
    "After creating the model architecture, we will compile it. We will use the adam optimiser to improve the loss obtained by the cross_entropy method, and then we will request the model to obtain the accuracy"
   ]
  },
  {
   "cell_type": "markdown",
   "metadata": {},
   "source": [
    "Once compiled, we will fit this model using our training data. If your computer is slow, I recommend you NOT to use the entire training dataset. This can be done by reducing the number n to something smaller than 60'000. Also, you can reduce the number of epochs."
   ]
  },
  {
   "cell_type": "code",
   "execution_count": 39,
   "metadata": {},
   "outputs": [],
   "source": [
    "# Set random seed for reproducibility\n",
    "np.random.seed(123)"
   ]
  },
  {
   "cell_type": "code",
   "execution_count": 30,
   "metadata": {},
   "outputs": [
    {
     "name": "stdout",
     "output_type": "stream",
     "text": [
      "Training for fold 0\n",
      "Epoch 1/5\n",
      "204/204 [==============================] - 28s 132ms/step - loss: 1.6091 - accuracy: 0.3198\n",
      "Epoch 2/5\n",
      "204/204 [==============================] - 28s 135ms/step - loss: 1.0665 - accuracy: 0.5628\n",
      "Epoch 3/5\n",
      "204/204 [==============================] - 28s 136ms/step - loss: 0.8715 - accuracy: 0.6629\n",
      "Epoch 4/5\n",
      "204/204 [==============================] - 28s 138ms/step - loss: 0.5216 - accuracy: 0.8166\n",
      "Epoch 5/5\n",
      "204/204 [==============================] - 28s 136ms/step - loss: 0.3413 - accuracy: 0.8802\n",
      "8/8 [==============================] - 1s 104ms/step - loss: 1.3663 - accuracy: 0.5490\n",
      "Score for fold 1: loss of 1.3663049936294556; accuracy of 54.90196347236633%\n",
      "Training for fold 1\n",
      "Epoch 1/5\n",
      "204/204 [==============================] - 28s 135ms/step - loss: 1.5409 - accuracy: 0.3528\n",
      "Epoch 2/5\n",
      "204/204 [==============================] - 27s 133ms/step - loss: 1.1989 - accuracy: 0.4771\n",
      "Epoch 3/5\n",
      "204/204 [==============================] - 27s 132ms/step - loss: 0.8831 - accuracy: 0.6592\n",
      "Epoch 4/5\n",
      "204/204 [==============================] - 27s 133ms/step - loss: 0.5608 - accuracy: 0.7875\n",
      "Epoch 5/5\n",
      "204/204 [==============================] - 28s 140ms/step - loss: 0.3239 - accuracy: 0.8893\n",
      "8/8 [==============================] - 1s 120ms/step - loss: 1.3410 - accuracy: 0.5882\n",
      "Score for fold 2: loss of 1.340988039970398; accuracy of 58.82353186607361%\n",
      "Training for fold 2\n",
      "Epoch 1/5\n",
      "204/204 [==============================] - 29s 139ms/step - loss: 1.4877 - accuracy: 0.3243\n",
      "Epoch 2/5\n",
      "204/204 [==============================] - 28s 137ms/step - loss: 1.0373 - accuracy: 0.5771\n",
      "Epoch 3/5\n",
      "204/204 [==============================] - 28s 138ms/step - loss: 0.7803 - accuracy: 0.7032\n",
      "Epoch 4/5\n",
      "204/204 [==============================] - 28s 137ms/step - loss: 0.4329 - accuracy: 0.8350\n",
      "Epoch 5/5\n",
      "204/204 [==============================] - 28s 138ms/step - loss: 0.2791 - accuracy: 0.9059\n",
      "8/8 [==============================] - 1s 111ms/step - loss: 1.5488 - accuracy: 0.5725\n",
      "Score for fold 3: loss of 1.5488176345825195; accuracy of 57.2549045085907%\n",
      "Training for fold 3\n",
      "Epoch 1/5\n",
      "204/204 [==============================] - 30s 142ms/step - loss: 1.4061 - accuracy: 0.3449\n",
      "Epoch 2/5\n",
      "204/204 [==============================] - 29s 140ms/step - loss: 0.9228 - accuracy: 0.6554\n",
      "Epoch 3/5\n",
      "204/204 [==============================] - 29s 141ms/step - loss: 0.6402 - accuracy: 0.7584\n",
      "Epoch 4/5\n",
      "204/204 [==============================] - 30s 149ms/step - loss: 0.3965 - accuracy: 0.8573\n",
      "Epoch 5/5\n",
      "204/204 [==============================] - 29s 144ms/step - loss: 0.2102 - accuracy: 0.9286\n",
      "8/8 [==============================] - 1s 122ms/step - loss: 1.4382 - accuracy: 0.5984\n",
      "Score for fold 4: loss of 1.4381864070892334; accuracy of 59.84252095222473%\n",
      "Training for fold 4\n",
      "Epoch 1/5\n",
      "204/204 [==============================] - 30s 144ms/step - loss: 1.4517 - accuracy: 0.3429\n",
      "Epoch 2/5\n",
      "204/204 [==============================] - 29s 142ms/step - loss: 1.0042 - accuracy: 0.6248\n",
      "Epoch 3/5\n",
      "204/204 [==============================] - 29s 140ms/step - loss: 0.6935 - accuracy: 0.7571\n",
      "Epoch 4/5\n",
      "204/204 [==============================] - 30s 145ms/step - loss: 0.3726 - accuracy: 0.8631\n",
      "Epoch 5/5\n",
      "204/204 [==============================] - 29s 142ms/step - loss: 0.2230 - accuracy: 0.9260\n",
      "8/8 [==============================] - 1s 122ms/step - loss: 1.1240 - accuracy: 0.6024\n",
      "Score for fold 5: loss of 1.1240322589874268; accuracy of 60.23622155189514%\n"
     ]
    }
   ],
   "source": [
    "\n",
    "# Define per-fold score containers <-- these are new\n",
    "acc_per_fold_cnn = []\n",
    "loss_per_fold_cnn = []\n",
    "\n",
    "# Define the K-fold Cross Validator\n",
    "kfold = StratifiedKFold(n_splits=5, shuffle=True)\n",
    "data = originalrepo\n",
    "fold_no = 1\n",
    "\n",
    "for i, (train_index, val_index) in enumerate(kfold.split(data, ohe_labels.argmax(1))):\n",
    "    x_train_kf, x_val_kf = data[train_index], data[val_index]\n",
    "    y_train_kf, y_val_kf = ohe_labels[train_index], ohe_labels[val_index]\n",
    "    \n",
    "    # Reshape the dataset into 4D array\n",
    "    x_train_kf = x_train_kf.reshape(x_train_kf.shape[0], 100, 100, 1)\n",
    "    x_val_kf = x_val_kf.reshape(x_val_kf.shape[0], 100, 100, 1)\n",
    "\n",
    "    # Convert dataset into a float32\n",
    "    x_train_kf = x_train_kf.astype('float32')\n",
    "    x_val_kf = x_val_kf.astype('float32')\n",
    "\n",
    "    # Normalise the dataset\n",
    "    x_train_kf /= 255\n",
    "    x_val_kf /= 255\n",
    "\n",
    "    \n",
    "    cnn_model = Sequential()\n",
    "    cnn_model.add(Conv2D(32, (3, 3), activation='relu', input_shape=(100,100,1)))\n",
    "    cnn_model.add(Conv2D(32, (3, 3), activation='relu'))\n",
    "    cnn_model.add(MaxPooling2D(pool_size=(2,2)))\n",
    "    cnn_model.add(Dropout(0.25))\n",
    "    cnn_model.add(Flatten())\n",
    "    cnn_model.add(Dense(128, activation='relu'))\n",
    "    cnn_model.add(Dropout(0.5))\n",
    "    cnn_model.add(Dense(4, activation='softmax'))\n",
    "\n",
    "    # Compile the model\n",
    "    cnn_model.compile(loss='categorical_crossentropy', optimizer='adam', metrics=['accuracy'])\n",
    "\n",
    "    # Generate a print\n",
    "    print(f'Training for fold {i}')\n",
    "\n",
    "    # Fit data to model\n",
    "    history = cnn_model.fit(x_train_kf, y_train_kf,\n",
    "    batch_size=5,\n",
    "    epochs=5)\n",
    "\n",
    "    # Generate generalization metrics\n",
    "    scores = cnn_model.evaluate(x_val_kf, y_val_kf)\n",
    "    print(f'Score for fold {fold_no}: {cnn_model.metrics_names[0]} of {scores[0]}; {cnn_model.metrics_names[1]} of {scores[1]*100}%')\n",
    "    acc_per_fold_cnn.append(scores[1] * 100)\n",
    "    loss_per_fold_cnn.append(scores[0])\n",
    "\n",
    "    # Increase fold number\n",
    "    fold_no = fold_no + 1"
   ]
  },
  {
   "cell_type": "markdown",
   "metadata": {},
   "source": [
    "##### Cross Validation"
   ]
  },
  {
   "cell_type": "markdown",
   "metadata": {},
   "source": [
    "In order to evaluate the models objectively cross validation will be implemented. By importing the cross_validate function from sklearn.model_selection the accuracy scores of support vector machine and random forest will be compared. \n",
    "\n",
    "Evaluating Precision, Recall and F1-score both by fold and average."
   ]
  },
  {
   "cell_type": "markdown",
   "metadata": {},
   "source": [
    "### Denoised Repository"
   ]
  },
  {
   "cell_type": "code",
   "execution_count": 31,
   "metadata": {
    "scrolled": true
   },
   "outputs": [],
   "source": [
    "# import the relevant packages\n",
    "from sklearn.model_selection import train_test_split\n",
    "\n",
    "# split the data into training and testing sets\n",
    "X_train, X_test, y_train, y_test = train_test_split(denoiserepo, target, test_size=0.2)\n"
   ]
  },
  {
   "cell_type": "markdown",
   "metadata": {},
   "source": [
    "##### Support Vector Machine(SVM) "
   ]
  },
  {
   "cell_type": "markdown",
   "metadata": {},
   "source": [
    "The data will be applied to Support Vector Machine algorithm below with the Support Vector Classifier(SVC)."
   ]
  },
  {
   "cell_type": "code",
   "execution_count": 32,
   "metadata": {},
   "outputs": [],
   "source": [
    "#import Support Vector Classifier\n",
    "from sklearn.svm import SVC\n",
    "\n",
    "# initiatiate the SVC\n",
    "svc_model = SVC()\n",
    "\n",
    "# fit theclassifier to the training data\n",
    "svc_fit = svc_model.fit(X_train, y_train)\n",
    "\n",
    "# predict the model with the test data\n",
    "svc_pred = svc_model.predict(X_test)"
   ]
  },
  {
   "cell_type": "markdown",
   "metadata": {},
   "source": [
    "##### Random Forest "
   ]
  },
  {
   "cell_type": "code",
   "execution_count": 33,
   "metadata": {},
   "outputs": [],
   "source": [
    "#import RandomForestClassifier\n",
    "from sklearn.ensemble import RandomForestClassifier\n",
    "\n",
    "# initiatiate the RandomForestClassifier\n",
    "rf_model = RandomForestClassifier()\n",
    "\n",
    "# fit the classifier to the training data\n",
    "rf_fit = rf_model.fit(X_train, y_train)\n",
    "\n",
    "# predict the model with the test data\n",
    "rf_pred = rf_model.predict(X_test)\n"
   ]
  },
  {
   "cell_type": "markdown",
   "metadata": {},
   "source": [
    "#### Accuracy of the Model"
   ]
  },
  {
   "cell_type": "code",
   "execution_count": 34,
   "metadata": {},
   "outputs": [
    {
     "name": "stdout",
     "output_type": "stream",
     "text": [
      "Mean Accuracy for SVM:  0.5529689671144048\n",
      "Mean Accuracy for RF:  0.5348926972363749\n"
     ]
    }
   ],
   "source": [
    "# Evaluating Mean Accuracy for all folds\n",
    "from sklearn.model_selection import cross_validate\n",
    "from sklearn.model_selection import cross_val_score\n",
    "print('Mean Accuracy for SVM: ',np.mean(cross_val_score(svc_model, denoiserepo, target, cv=5, scoring = 'accuracy')))\n",
    "print('Mean Accuracy for RF: ',np.mean(cross_val_score(rf_model, denoiserepo, target, cv=5, scoring = 'accuracy')))\n",
    "#precision_score(y_test, rf_pred, average='micro', zero_division=1)\n"
   ]
  },
  {
   "cell_type": "markdown",
   "metadata": {},
   "source": [
    "The accuracy of the Support Vector Machine is 64%. This is an improvement on the the 25% chance without a classifier. The number of true positives in the 101 which is higher than 83 number of true negatives. However there is more false positive than false negatives. This suggest the classifier is 64% more likely to identify the correct class than not. "
   ]
  },
  {
   "cell_type": "markdown",
   "metadata": {},
   "source": [
    "### NN "
   ]
  },
  {
   "cell_type": "markdown",
   "metadata": {},
   "source": [
    "A neural network will be implemented following the 4 steps previously found in section 1.1. "
   ]
  },
  {
   "cell_type": "code",
   "execution_count": 37,
   "metadata": {},
   "outputs": [],
   "source": [
    "# Set random seed for reproducibility\n",
    "np.random.seed(123)"
   ]
  },
  {
   "cell_type": "code",
   "execution_count": 35,
   "metadata": {},
   "outputs": [
    {
     "name": "stdout",
     "output_type": "stream",
     "text": [
      "Training for fold 0\n",
      "Epoch 1/5\n",
      "204/204 [==============================] - 1s 2ms/step - loss: 1.4502 - accuracy: 0.2734\n",
      "Epoch 2/5\n",
      "204/204 [==============================] - 0s 2ms/step - loss: 1.3808 - accuracy: 0.3429\n",
      "Epoch 3/5\n",
      "204/204 [==============================] - 0s 2ms/step - loss: 1.3682 - accuracy: 0.3077\n",
      "Epoch 4/5\n",
      "204/204 [==============================] - 0s 2ms/step - loss: 1.3630 - accuracy: 0.3008\n",
      "Epoch 5/5\n",
      "204/204 [==============================] - 0s 2ms/step - loss: 1.3168 - accuracy: 0.3420\n",
      "8/8 [==============================] - 0s 2ms/step - loss: 1.3035 - accuracy: 0.3647\n",
      "Score for fold 1: loss of 1.3035420179367065; accuracy of 36.4705890417099%\n",
      "Training for fold 1\n",
      "Epoch 1/5\n",
      "204/204 [==============================] - 1s 2ms/step - loss: 1.4102 - accuracy: 0.2354\n",
      "Epoch 2/5\n",
      "204/204 [==============================] - 0s 2ms/step - loss: 1.3841 - accuracy: 0.2700\n",
      "Epoch 3/5\n",
      "204/204 [==============================] - 0s 2ms/step - loss: 1.3835 - accuracy: 0.2817\n",
      "Epoch 4/5\n",
      "204/204 [==============================] - 0s 2ms/step - loss: 1.3852 - accuracy: 0.2640\n",
      "Epoch 5/5\n",
      "204/204 [==============================] - 0s 2ms/step - loss: 1.3813 - accuracy: 0.2873\n",
      "8/8 [==============================] - 0s 2ms/step - loss: 1.3811 - accuracy: 0.2784\n",
      "Score for fold 2: loss of 1.3811193704605103; accuracy of 27.843138575553894%\n",
      "Training for fold 2\n",
      "Epoch 1/5\n",
      "204/204 [==============================] - 1s 2ms/step - loss: 1.4731 - accuracy: 0.2578\n",
      "Epoch 2/5\n",
      "204/204 [==============================] - 0s 2ms/step - loss: 1.3853 - accuracy: 0.2628: 0s - loss: 1.3860 - ac\n",
      "Epoch 3/5\n",
      "204/204 [==============================] - 0s 2ms/step - loss: 1.3866 - accuracy: 0.2456\n",
      "Epoch 4/5\n",
      "204/204 [==============================] - 0s 2ms/step - loss: 1.3822 - accuracy: 0.2738\n",
      "Epoch 5/5\n",
      "204/204 [==============================] - 0s 2ms/step - loss: 1.3858 - accuracy: 0.2698\n",
      "8/8 [==============================] - 0s 3ms/step - loss: 1.3812 - accuracy: 0.2745\n",
      "Score for fold 3: loss of 1.3812451362609863; accuracy of 27.450981736183167%\n",
      "Training for fold 3\n",
      "Epoch 1/5\n",
      "204/204 [==============================] - 1s 2ms/step - loss: 1.4394 - accuracy: 0.2466\n",
      "Epoch 2/5\n",
      "204/204 [==============================] - 0s 2ms/step - loss: 1.3824 - accuracy: 0.2875\n",
      "Epoch 3/5\n",
      "204/204 [==============================] - 0s 2ms/step - loss: 1.3809 - accuracy: 0.2841\n",
      "Epoch 4/5\n",
      "204/204 [==============================] - 0s 2ms/step - loss: 1.3806 - accuracy: 0.2762\n",
      "Epoch 5/5\n",
      "204/204 [==============================] - 0s 2ms/step - loss: 1.3815 - accuracy: 0.2666\n",
      "8/8 [==============================] - 0s 2ms/step - loss: 1.3813 - accuracy: 0.2795\n",
      "Score for fold 4: loss of 1.3812921047210693; accuracy of 27.952754497528076%\n",
      "Training for fold 4\n",
      "Epoch 1/5\n",
      "204/204 [==============================] - 1s 2ms/step - loss: 1.4708 - accuracy: 0.2475\n",
      "Epoch 2/5\n",
      "204/204 [==============================] - 0s 2ms/step - loss: 1.3853 - accuracy: 0.2759\n",
      "Epoch 3/5\n",
      "204/204 [==============================] - 0s 2ms/step - loss: 1.3844 - accuracy: 0.2591\n",
      "Epoch 4/5\n",
      "204/204 [==============================] - 0s 2ms/step - loss: 1.3802 - accuracy: 0.2760\n",
      "Epoch 5/5\n",
      "204/204 [==============================] - 0s 2ms/step - loss: 1.3828 - accuracy: 0.2750\n",
      "8/8 [==============================] - 0s 2ms/step - loss: 1.3814 - accuracy: 0.2795\n",
      "Score for fold 5: loss of 1.3813875913619995; accuracy of 27.952754497528076%\n"
     ]
    }
   ],
   "source": [
    "data = denoiserepo\n",
    "fold_no = 1\n",
    "# Define per-fold score containers <-- these are new\n",
    "acc_per_fold_de_nn = []\n",
    "loss_per_fold_de_nn = []\n",
    "# Define the K-fold Cross Validator\n",
    "kfold = StratifiedKFold(n_splits=5, shuffle=True)\n",
    "\n",
    "\n",
    "for i, (train_index, val_index) in enumerate(kfold.split(data, ohe_labels.argmax(1))):\n",
    "    x_train_kf, x_val_kf = data[train_index], data[val_index]\n",
    "    y_train_kf, y_val_kf = ohe_labels[train_index], ohe_labels[val_index]\n",
    "    \n",
    "    nn_model = Sequential()\n",
    "    nn_model.add(Dense(10, input_shape=(10000,), activation='relu'))\n",
    "    nn_model.add(Dense(10, activation='relu'))\n",
    "    nn_model.add(Dense(4, activation='sigmoid'))\n",
    "\n",
    "    # Compile the model\n",
    "    nn_model.compile(loss='categorical_crossentropy', optimizer='adam', metrics=['accuracy'])\n",
    "\n",
    "    # Generate a print\n",
    "    print(f'Training for fold {i}')\n",
    "\n",
    "    # Fit data to model\n",
    "    history = nn_model.fit(x_train_kf, y_train_kf,\n",
    "    batch_size=5,\n",
    "    epochs=5)\n",
    "\n",
    "    # Generate generalization metrics\n",
    "    scores = nn_model.evaluate(x_val_kf, y_val_kf)\n",
    "    print(f'Score for fold {fold_no}: {nn_model.metrics_names[0]} of {scores[0]}; {nn_model.metrics_names[1]} of {scores[1]*100}%')\n",
    "    acc_per_fold_de_nn.append(scores[1] * 100)\n",
    "    loss_per_fold_de_nn.append(scores[0])\n",
    "\n",
    "    # Increase fold number\n",
    "    fold_no = fold_no + 1"
   ]
  },
  {
   "cell_type": "markdown",
   "metadata": {},
   "source": [
    "To evaluate the model, we use a separate test data-set. As in the train data, the images in the test data also need to be reshaped before they can be provided to the fully-connected network because the network expects one column per pixel in the input."
   ]
  },
  {
   "cell_type": "markdown",
   "metadata": {},
   "source": [
    "### CNN"
   ]
  },
  {
   "cell_type": "markdown",
   "metadata": {},
   "source": [
    "CNN can classify and extract their own features therefore there is no need to use the hog dataset. This is why CNN will be used on the image repository. Thesefore the data will be split again using the datarepo and the target_cd.\n",
    "The images are all 100 by 100 images coloured imaged. The CNN will compute 32 filters over the input with a response map that is 26 x 26 in size. The siz of the patches is 3 x 3 and the depth of the output feature map is 32. Max pooling extracts windows from the input much like a convolution and halves the feature map.\n",
    "\n"
   ]
  },
  {
   "cell_type": "code",
   "execution_count": null,
   "metadata": {},
   "outputs": [],
   "source": [
    "# Set random seed for reproducibility\n",
    "np.random.seed(123)"
   ]
  },
  {
   "cell_type": "code",
   "execution_count": 36,
   "metadata": {},
   "outputs": [
    {
     "name": "stdout",
     "output_type": "stream",
     "text": [
      "Training for fold 0\n",
      "Epoch 1/5\n",
      "204/204 [==============================] - 29s 138ms/step - loss: 1.3897 - accuracy: 0.2338\n",
      "Epoch 2/5\n",
      "204/204 [==============================] - 29s 141ms/step - loss: 1.3837 - accuracy: 0.2390\n",
      "Epoch 3/5\n",
      "204/204 [==============================] - 29s 144ms/step - loss: 1.3802 - accuracy: 0.2836\n",
      "Epoch 4/5\n",
      "204/204 [==============================] - 30s 148ms/step - loss: 1.3794 - accuracy: 0.2734\n",
      "Epoch 5/5\n",
      "204/204 [==============================] - 29s 143ms/step - loss: 1.3776 - accuracy: 0.2991\n",
      "8/8 [==============================] - 1s 118ms/step - loss: 1.3807 - accuracy: 0.2784\n",
      "Score for fold 1: loss of 1.3807481527328491; accuracy of 27.843138575553894%\n",
      "Training for fold 1\n",
      "Epoch 1/5\n",
      "204/204 [==============================] - 29s 141ms/step - loss: 1.3877 - accuracy: 0.2793\n",
      "Epoch 2/5\n",
      "204/204 [==============================] - 29s 141ms/step - loss: 1.3830 - accuracy: 0.2854\n",
      "Epoch 3/5\n",
      "204/204 [==============================] - 29s 143ms/step - loss: 1.3829 - accuracy: 0.2884\n",
      "Epoch 4/5\n",
      "204/204 [==============================] - 29s 144ms/step - loss: 1.3838 - accuracy: 0.2396\n",
      "Epoch 5/5\n",
      "204/204 [==============================] - 30s 147ms/step - loss: 1.3818 - accuracy: 0.2448\n",
      "8/8 [==============================] - 1s 107ms/step - loss: 1.3808 - accuracy: 0.2784\n",
      "Score for fold 2: loss of 1.3807686567306519; accuracy of 27.843138575553894%\n",
      "Training for fold 2\n",
      "Epoch 1/5\n",
      "204/204 [==============================] - 30s 144ms/step - loss: 1.3889 - accuracy: 0.2563\n",
      "Epoch 2/5\n",
      "204/204 [==============================] - 29s 143ms/step - loss: 1.3834 - accuracy: 0.2681\n",
      "Epoch 3/5\n",
      "204/204 [==============================] - 29s 143ms/step - loss: 1.3803 - accuracy: 0.2768\n",
      "Epoch 4/5\n",
      "204/204 [==============================] - 30s 145ms/step - loss: 1.3816 - accuracy: 0.2795\n",
      "Epoch 5/5\n",
      "204/204 [==============================] - 29s 144ms/step - loss: 1.3760 - accuracy: 0.3205\n",
      "8/8 [==============================] - 1s 119ms/step - loss: 1.3808 - accuracy: 0.2784\n",
      "Score for fold 3: loss of 1.380800724029541; accuracy of 27.843138575553894%\n",
      "Training for fold 3\n",
      "Epoch 1/5\n",
      "204/204 [==============================] - 29s 141ms/step - loss: 1.3874 - accuracy: 0.2535\n",
      "Epoch 2/5\n",
      "204/204 [==============================] - 29s 142ms/step - loss: 1.3851 - accuracy: 0.2609\n",
      "Epoch 3/5\n",
      "204/204 [==============================] - 29s 141ms/step - loss: 1.3818 - accuracy: 0.2699\n",
      "Epoch 4/5\n",
      "204/204 [==============================] - 29s 142ms/step - loss: 1.3843 - accuracy: 0.2610\n",
      "Epoch 5/5\n",
      "204/204 [==============================] - 29s 142ms/step - loss: 1.3834 - accuracy: 0.2926\n",
      "8/8 [==============================] - 1s 111ms/step - loss: 1.3810 - accuracy: 0.2795\n",
      "Score for fold 4: loss of 1.3810144662857056; accuracy of 27.952754497528076%\n",
      "Training for fold 4\n",
      "Epoch 1/5\n",
      "204/204 [==============================] - 31s 147ms/step - loss: 1.3876 - accuracy: 0.2785\n",
      "Epoch 2/5\n",
      "204/204 [==============================] - 30s 147ms/step - loss: 1.3830 - accuracy: 0.3024\n",
      "Epoch 3/5\n",
      "204/204 [==============================] - 30s 145ms/step - loss: 1.3779 - accuracy: 0.3006\n",
      "Epoch 4/5\n",
      "204/204 [==============================] - 30s 149ms/step - loss: 1.3827 - accuracy: 0.2603\n",
      "Epoch 5/5\n",
      "204/204 [==============================] - 30s 146ms/step - loss: 1.3832 - accuracy: 0.2485\n",
      "8/8 [==============================] - 1s 107ms/step - loss: 1.3811 - accuracy: 0.2795\n",
      "Score for fold 5: loss of 1.3811417818069458; accuracy of 27.952754497528076%\n"
     ]
    }
   ],
   "source": [
    "# Import relevant packages\n",
    "from keras.models import Sequential\n",
    "from keras.layers import Dense, Conv2D, Dropout, Flatten, MaxPooling2D\n",
    "from tensorflow.keras import datasets, layers, models\n",
    "from keras.layers import Dense, Dropout, Conv2D, MaxPool2D, Flatten\n",
    "from keras.utils import np_utils\n",
    "\n",
    "data = denoiserepo\n",
    "fold_no = 1\n",
    "# Define per-fold score containers <-- these are new\n",
    "acc_per_fold_de_cnn = []\n",
    "loss_per_fold_de_cnn = []\n",
    "\n",
    "# Define the K-fold Cross Validator\n",
    "kfold = StratifiedKFold(n_splits=5, shuffle=True)\n",
    "\n",
    "\n",
    "for i, (train_index, val_index) in enumerate(kfold.split(data, ohe_labels.argmax(1))):\n",
    "    x_train_kf, x_val_kf = data[train_index], data[val_index]\n",
    "    y_train_kf, y_val_kf = ohe_labels[train_index], ohe_labels[val_index]\n",
    "    \n",
    "    \n",
    "    # Reshape the dataset into 4D array\n",
    "    x_train_kf = x_train_kf.reshape(x_train_kf.shape[0], 100, 100, 1)\n",
    "    x_val_kf = x_val_kf.reshape(x_val_kf.shape[0], 100, 100, 1)\n",
    "\n",
    "    # Convert dataset into a float32\n",
    "    x_train_kf = x_train_kf.astype('float32')\n",
    "    x_val_kf = x_val_kf.astype('float32')\n",
    "\n",
    "    # Normalise the dataset\n",
    "    x_train_kf /= 255\n",
    "    x_val_kf /= 255\n",
    "    \n",
    "    cnn_model = Sequential()\n",
    "    cnn_model.add(Conv2D(32, (3, 3), activation='relu', input_shape=(100,100,1)))\n",
    "    cnn_model.add(Conv2D(32, (3, 3), activation='relu'))\n",
    "    cnn_model.add(MaxPooling2D(pool_size=(2,2)))\n",
    "    cnn_model.add(Dropout(0.25))\n",
    "    cnn_model.add(Flatten())\n",
    "    cnn_model.add(Dense(128, activation='relu'))\n",
    "    cnn_model.add(Dropout(0.5))\n",
    "    cnn_model.add(Dense(4, activation='softmax'))\n",
    "\n",
    "    # Compile the model\n",
    "    cnn_model.compile(loss='categorical_crossentropy', optimizer='adam', metrics=['accuracy'])\n",
    "\n",
    "    # Generate a print\n",
    "    print(f'Training for fold {i}')\n",
    "\n",
    "    # Fit data to model\n",
    "    history = cnn_model.fit(x_train_kf, y_train_kf,\n",
    "    batch_size=5,\n",
    "    epochs=5)\n",
    "\n",
    "    # Generate generalization metrics\n",
    "    scores = cnn_model.evaluate(x_val_kf, y_val_kf)\n",
    "    print(f'Score for fold {fold_no}: {cnn_model.metrics_names[0]} of {scores[0]}; {cnn_model.metrics_names[1]} of {scores[1]*100}%')\n",
    "    acc_per_fold_de_cnn.append(scores[1] * 100)\n",
    "    loss_per_fold_de_cnn.append(scores[0])\n",
    "\n",
    "    # Increase fold number\n",
    "    fold_no = fold_no + 1"
   ]
  },
  {
   "cell_type": "markdown",
   "metadata": {},
   "source": [
    "X_train shape (988, 100, 100, 1)\n",
    "y_train shape (988, 4)\n",
    "X_test shape (248, 100, 100, 1)\n",
    "y_test shape (248, 4)"
   ]
  },
  {
   "cell_type": "markdown",
   "metadata": {},
   "source": [
    "##### Cross Validation"
   ]
  },
  {
   "cell_type": "markdown",
   "metadata": {},
   "source": [
    "In order to evaluate the models objectively cross validation will be implemented. By importing the cross_validate function from sklearn.model_selection the accuracy scores of support vector machine and random forest will be compared. \n",
    "\n",
    "Evaluating Precision, Recall and F1-score both by fold and average."
   ]
  },
  {
   "cell_type": "markdown",
   "metadata": {},
   "source": [
    "### Binarised Repository"
   ]
  },
  {
   "cell_type": "markdown",
   "metadata": {},
   "source": [
    "##### Split the Data"
   ]
  },
  {
   "cell_type": "code",
   "execution_count": 37,
   "metadata": {},
   "outputs": [],
   "source": [
    "# Set random seed for reproducibility\n",
    "np.random.seed(123)"
   ]
  },
  {
   "cell_type": "code",
   "execution_count": 38,
   "metadata": {
    "scrolled": true
   },
   "outputs": [],
   "source": [
    "# import the relevant packages\n",
    "from sklearn.model_selection import train_test_split\n",
    "\n",
    "# split the data into training and testing sets\n",
    "X_train, X_test, y_train, y_test = train_test_split(binarisedrepo, target, test_size=0.2)\n"
   ]
  },
  {
   "cell_type": "markdown",
   "metadata": {},
   "source": [
    "##### Support Vector Machine(SVM) "
   ]
  },
  {
   "cell_type": "code",
   "execution_count": 39,
   "metadata": {},
   "outputs": [],
   "source": [
    "# Set random seed for reproducibility\n",
    "np.random.seed(123)"
   ]
  },
  {
   "cell_type": "code",
   "execution_count": 40,
   "metadata": {},
   "outputs": [],
   "source": [
    "# Import Support Vector Classifier\n",
    "from sklearn.svm import SVC\n",
    "\n",
    "# Initiatiate the SVC\n",
    "svc_model = SVC()\n",
    "\n",
    "# Fit theclassifier to the training data\n",
    "svc_fit = svc_model.fit(X_train, y_train)\n",
    "\n",
    "# Predict the model with the test data\n",
    "svc_pred = svc_model.predict(X_test)"
   ]
  },
  {
   "cell_type": "markdown",
   "metadata": {},
   "source": [
    "##### Random Forest "
   ]
  },
  {
   "cell_type": "code",
   "execution_count": 41,
   "metadata": {},
   "outputs": [],
   "source": [
    "# Set random seed for reproducibility\n",
    "np.random.seed(123)"
   ]
  },
  {
   "cell_type": "code",
   "execution_count": 42,
   "metadata": {},
   "outputs": [],
   "source": [
    "# Import RandomForestClassifier\n",
    "from sklearn.ensemble import RandomForestClassifier\n",
    "\n",
    "# Initiatiate the RandomForestClassifier\n",
    "rf_model = RandomForestClassifier()\n",
    "\n",
    "# Fit the classifier to the training data\n",
    "rf_fit = rf_model.fit(X_train, y_train)\n",
    "\n",
    "# Predict the model with the test data\n",
    "rf_pred = rf_model.predict(X_test)\n"
   ]
  },
  {
   "cell_type": "markdown",
   "metadata": {},
   "source": [
    "#### Accuracy of the Model"
   ]
  },
  {
   "cell_type": "code",
   "execution_count": null,
   "metadata": {},
   "outputs": [],
   "source": [
    "# Evaluating Mean Accuracy for all folds\n",
    "from sklearn.model_selection import cross_validate\n",
    "from sklearn.model_selection import cross_val_score\n",
    "print('Mean Accuracy for SVM: ',np.mean(cross_val_score(svc_model, originalrepo, target, cv=5, scoring = 'accuracy')))\n",
    "print('Mean Accuracy for RF: ',np.mean(cross_val_score(rf_model, originalrepo, target, cv=5, scoring = 'accuracy')))\n",
    "precision_score(y_test, rf_pred, average='micro', zero_division=1)\n"
   ]
  },
  {
   "cell_type": "markdown",
   "metadata": {},
   "source": [
    "#### NN "
   ]
  },
  {
   "cell_type": "code",
   "execution_count": 43,
   "metadata": {},
   "outputs": [],
   "source": [
    "# Set random seed for reproducibility\n",
    "np.random.seed(123)"
   ]
  },
  {
   "cell_type": "code",
   "execution_count": 45,
   "metadata": {},
   "outputs": [
    {
     "name": "stdout",
     "output_type": "stream",
     "text": [
      "Training for fold 0\n",
      "Epoch 1/5\n",
      "204/204 [==============================] - 1s 2ms/step - loss: 1.3859 - accuracy: 0.2455\n",
      "Epoch 2/5\n",
      "204/204 [==============================] - 0s 2ms/step - loss: 1.3835 - accuracy: 0.2294\n",
      "Epoch 3/5\n",
      "204/204 [==============================] - 0s 2ms/step - loss: 1.3812 - accuracy: 0.2794\n",
      "Epoch 4/5\n",
      "204/204 [==============================] - 0s 2ms/step - loss: 1.3827 - accuracy: 0.2806\n",
      "Epoch 5/5\n",
      "204/204 [==============================] - 0s 2ms/step - loss: 1.3794 - accuracy: 0.3099\n",
      "8/8 [==============================] - 0s 2ms/step - loss: 1.3811 - accuracy: 0.2784\n",
      "Score for fold 1: loss of 1.3811358213424683; accuracy of 27.843138575553894%\n",
      "Training for fold 1\n",
      "Epoch 1/5\n",
      "204/204 [==============================] - 1s 2ms/step - loss: 1.3862 - accuracy: 0.2487\n",
      "Epoch 2/5\n",
      "204/204 [==============================] - 0s 2ms/step - loss: 1.3856 - accuracy: 0.2588\n",
      "Epoch 3/5\n",
      "204/204 [==============================] - 0s 2ms/step - loss: 1.3820 - accuracy: 0.2747\n",
      "Epoch 4/5\n",
      "204/204 [==============================] - 0s 2ms/step - loss: 1.3814 - accuracy: 0.2430\n",
      "Epoch 5/5\n",
      "204/204 [==============================] - 0s 2ms/step - loss: 1.3812 - accuracy: 0.2871\n",
      "8/8 [==============================] - 0s 2ms/step - loss: 1.3811 - accuracy: 0.2784\n",
      "Score for fold 2: loss of 1.3810597658157349; accuracy of 27.843138575553894%\n",
      "Training for fold 2\n",
      "Epoch 1/5\n",
      "204/204 [==============================] - 1s 2ms/step - loss: 1.3854 - accuracy: 0.2767\n",
      "Epoch 2/5\n",
      "204/204 [==============================] - 0s 2ms/step - loss: 1.3842 - accuracy: 0.2842\n",
      "Epoch 3/5\n",
      "204/204 [==============================] - 0s 2ms/step - loss: 1.3819 - accuracy: 0.3047\n",
      "Epoch 4/5\n",
      "204/204 [==============================] - 0s 2ms/step - loss: 1.3805 - accuracy: 0.2788\n",
      "Epoch 5/5\n",
      "204/204 [==============================] - 0s 2ms/step - loss: 1.3835 - accuracy: 0.2844\n",
      "8/8 [==============================] - 0s 2ms/step - loss: 1.3811 - accuracy: 0.2784\n",
      "Score for fold 3: loss of 1.3810985088348389; accuracy of 27.843138575553894%\n",
      "Training for fold 3\n",
      "Epoch 1/5\n",
      "204/204 [==============================] - 1s 2ms/step - loss: 1.3858 - accuracy: 0.2479\n",
      "Epoch 2/5\n",
      "204/204 [==============================] - 0s 2ms/step - loss: 1.3827 - accuracy: 0.2820\n",
      "Epoch 3/5\n",
      "204/204 [==============================] - 0s 2ms/step - loss: 1.3829 - accuracy: 0.2811\n",
      "Epoch 4/5\n",
      "204/204 [==============================] - 0s 2ms/step - loss: 1.3833 - accuracy: 0.2434\n",
      "Epoch 5/5\n",
      "204/204 [==============================] - 0s 2ms/step - loss: 1.3801 - accuracy: 0.2715\n",
      "8/8 [==============================] - 0s 2ms/step - loss: 1.3814 - accuracy: 0.2795\n",
      "Score for fold 4: loss of 1.381362795829773; accuracy of 27.952754497528076%\n",
      "Training for fold 4\n",
      "Epoch 1/5\n",
      "204/204 [==============================] - 1s 2ms/step - loss: 1.3860 - accuracy: 0.2597\n",
      "Epoch 2/5\n",
      "204/204 [==============================] - 0s 2ms/step - loss: 1.3846 - accuracy: 0.2764\n",
      "Epoch 3/5\n",
      "204/204 [==============================] - 0s 2ms/step - loss: 1.3814 - accuracy: 0.2962\n",
      "Epoch 4/5\n",
      "204/204 [==============================] - 0s 2ms/step - loss: 1.3824 - accuracy: 0.2463\n",
      "Epoch 5/5\n",
      "204/204 [==============================] - 0s 2ms/step - loss: 1.3807 - accuracy: 0.2737\n",
      "8/8 [==============================] - 0s 2ms/step - loss: 1.3813 - accuracy: 0.2795\n",
      "Score for fold 5: loss of 1.381322979927063; accuracy of 27.952754497528076%\n"
     ]
    }
   ],
   "source": [
    "data = binarisedrepo\n",
    "fold_no = 1\n",
    "# Define per-fold score containers <-- these are new\n",
    "acc_per_fold_bin_nn = []\n",
    "loss_per_fold_bin_nn = []\n",
    "# Define the K-fold Cross Validator\n",
    "kfold = StratifiedKFold(n_splits=5, shuffle=True)\n",
    "\n",
    "\n",
    "for i, (train_index, val_index) in enumerate(kfold.split(data, ohe_labels.argmax(1))):\n",
    "    x_train_kf, x_val_kf = data[train_index], data[val_index]\n",
    "    y_train_kf, y_val_kf = ohe_labels[train_index], ohe_labels[val_index]\n",
    "    \n",
    "    nn_model = Sequential()\n",
    "    nn_model.add(Dense(10, input_shape=(10000,), activation='relu'))\n",
    "    nn_model.add(Dense(10, activation='relu'))\n",
    "    nn_model.add(Dense(4, activation='sigmoid'))\n",
    "\n",
    "    # Compile the model\n",
    "    nn_model.compile(loss='categorical_crossentropy', optimizer='adam', metrics=['accuracy'])\n",
    "\n",
    "    # Generate a print\n",
    "    print(f'Training for fold {i}')\n",
    "\n",
    "    # Fit data to model\n",
    "    history = nn_model.fit(x_train_kf, y_train_kf,\n",
    "    batch_size=5,\n",
    "    epochs=5)\n",
    "\n",
    "    # Generate generalization metrics\n",
    "    scores = nn_model.evaluate(x_val_kf, y_val_kf)\n",
    "    print(f'Score for fold {fold_no}: {nn_model.metrics_names[0]} of {scores[0]}; {nn_model.metrics_names[1]} of {scores[1]*100}%')\n",
    "    acc_per_fold_bin_nn.append(scores[1] * 100)\n",
    "    loss_per_fold_bin_nn.append(scores[0])\n",
    "\n",
    "    # Increase fold number\n",
    "    fold_no = fold_no + 1"
   ]
  },
  {
   "cell_type": "markdown",
   "metadata": {},
   "source": [
    "To evaluate the model, we use a separate test data-set. As in the train data, the images in the test data also need to be reshaped before they can be provided to the fully-connected network because the network expects one column per pixel in the input."
   ]
  },
  {
   "cell_type": "markdown",
   "metadata": {},
   "source": [
    "#### CNN"
   ]
  },
  {
   "cell_type": "markdown",
   "metadata": {},
   "source": [
    "CNN can classify and extract their own features therefore there is no need to use the hog dataset. This is why CNN will be used on the image repository. Thesefore the data will be split again using the datarepo and the target_cd.\n",
    "The images are all 100 by 100 images coloured imaged. The CNN will compute 32 filters over the input with a response map that is 26 x 26 in size. The siz of the patches is 3 x 3 and the depth of the output feature map is 32. Max pooling extracts windows from the input much like a convolution and halves the feature map."
   ]
  },
  {
   "cell_type": "code",
   "execution_count": 46,
   "metadata": {},
   "outputs": [],
   "source": [
    "# Set random seed for reproducibility\n",
    "np.random.seed(123)"
   ]
  },
  {
   "cell_type": "code",
   "execution_count": 47,
   "metadata": {},
   "outputs": [
    {
     "name": "stdout",
     "output_type": "stream",
     "text": [
      "Training for fold 0\n",
      "Epoch 1/5\n",
      "204/204 [==============================] - 28s 133ms/step - loss: 1.3860 - accuracy: 0.2480\n",
      "Epoch 2/5\n",
      "204/204 [==============================] - 28s 139ms/step - loss: 1.3845 - accuracy: 0.2809\n",
      "Epoch 3/5\n",
      "204/204 [==============================] - 28s 136ms/step - loss: 1.3812 - accuracy: 0.2664\n",
      "Epoch 4/5\n",
      "204/204 [==============================] - 28s 137ms/step - loss: 1.3805 - accuracy: 0.2834\n",
      "Epoch 5/5\n",
      "204/204 [==============================] - 28s 136ms/step - loss: 1.3814 - accuracy: 0.2812\n",
      "8/8 [==============================] - 1s 102ms/step - loss: 1.3812 - accuracy: 0.2784\n",
      "Score for fold 1: loss of 1.3811935186386108; accuracy of 27.843138575553894%\n",
      "Training for fold 1\n",
      "Epoch 1/5\n",
      "204/204 [==============================] - 29s 138ms/step - loss: 1.3854 - accuracy: 0.2447\n",
      "Epoch 2/5\n",
      "204/204 [==============================] - 28s 138ms/step - loss: 1.3852 - accuracy: 0.2294\n",
      "Epoch 3/5\n",
      "204/204 [==============================] - 28s 139ms/step - loss: 1.3812 - accuracy: 0.2953\n",
      "Epoch 4/5\n",
      "204/204 [==============================] - 30s 147ms/step - loss: 1.3833 - accuracy: 0.2876\n",
      "Epoch 5/5\n",
      "204/204 [==============================] - 29s 141ms/step - loss: 1.3809 - accuracy: 0.2676\n",
      "8/8 [==============================] - 1s 110ms/step - loss: 1.3811 - accuracy: 0.2784\n",
      "Score for fold 2: loss of 1.381096363067627; accuracy of 27.843138575553894%\n",
      "Training for fold 2\n",
      "Epoch 1/5\n",
      "204/204 [==============================] - 31s 148ms/step - loss: 1.3860 - accuracy: 0.2764\n",
      "Epoch 2/5\n",
      "204/204 [==============================] - 28s 135ms/step - loss: 1.3851 - accuracy: 0.2703\n",
      "Epoch 3/5\n",
      "204/204 [==============================] - 31s 150ms/step - loss: 1.3793 - accuracy: 0.3006\n",
      "Epoch 4/5\n",
      "204/204 [==============================] - 29s 140ms/step - loss: 1.3840 - accuracy: 0.2703\n",
      "Epoch 5/5\n",
      "204/204 [==============================] - 27s 134ms/step - loss: 1.3785 - accuracy: 0.2954\n",
      "8/8 [==============================] - 1s 115ms/step - loss: 1.3811 - accuracy: 0.2784\n",
      "Score for fold 3: loss of 1.3811213970184326; accuracy of 27.843138575553894%\n",
      "Training for fold 3\n",
      "Epoch 1/5\n",
      "204/204 [==============================] - 29s 139ms/step - loss: 1.3857 - accuracy: 0.2715\n",
      "Epoch 2/5\n",
      "204/204 [==============================] - 28s 136ms/step - loss: 1.3826 - accuracy: 0.3089\n",
      "Epoch 3/5\n",
      "204/204 [==============================] - 28s 135ms/step - loss: 1.3827 - accuracy: 0.2777\n",
      "Epoch 4/5\n",
      "204/204 [==============================] - 27s 134ms/step - loss: 1.3822 - accuracy: 0.2646\n",
      "Epoch 5/5\n",
      "204/204 [==============================] - 28s 135ms/step - loss: 1.3816 - accuracy: 0.2799\n",
      "8/8 [==============================] - 1s 106ms/step - loss: 1.3813 - accuracy: 0.2795\n",
      "Score for fold 4: loss of 1.3813151121139526; accuracy of 27.952754497528076%\n",
      "Training for fold 4\n",
      "Epoch 1/5\n",
      "204/204 [==============================] - 28s 136ms/step - loss: 1.3858 - accuracy: 0.2763\n",
      "Epoch 2/5\n",
      "204/204 [==============================] - 28s 136ms/step - loss: 1.3843 - accuracy: 0.2474\n",
      "Epoch 3/5\n",
      "204/204 [==============================] - 28s 135ms/step - loss: 1.3823 - accuracy: 0.2836\n",
      "Epoch 4/5\n",
      "204/204 [==============================] - 28s 136ms/step - loss: 1.3820 - accuracy: 0.2564\n",
      "Epoch 5/5\n",
      "204/204 [==============================] - 29s 141ms/step - loss: 1.3826 - accuracy: 0.2900\n",
      "8/8 [==============================] - 1s 109ms/step - loss: 1.3813 - accuracy: 0.2795\n",
      "Score for fold 5: loss of 1.3813432455062866; accuracy of 27.952754497528076%\n"
     ]
    }
   ],
   "source": [
    "# Import relevant packages\n",
    "from keras.models import Sequential\n",
    "from keras.layers import Dense, Conv2D, Dropout, Flatten, MaxPooling2D\n",
    "from tensorflow.keras import datasets, layers, models\n",
    "from keras.layers import Dense, Dropout, Conv2D, MaxPool2D, Flatten\n",
    "from keras.utils import np_utils\n",
    "\n",
    "data = binarisedrepo\n",
    "fold_no = 1\n",
    "# Define per-fold score containers <-- these are new\n",
    "acc_per_fold_bin_cnn = []\n",
    "loss_per_fold_bin_cnn = []\n",
    "# Define the K-fold Cross Validator\n",
    "kfold = StratifiedKFold(n_splits=5, shuffle=True)\n",
    "\n",
    "\n",
    "for i, (train_index, val_index) in enumerate(kfold.split(data, ohe_labels.argmax(1))):\n",
    "    x_train_kf, x_val_kf = data[train_index], data[val_index]\n",
    "    y_train_kf, y_val_kf = ohe_labels[train_index], ohe_labels[val_index]\n",
    "    \n",
    "    \n",
    "    # Reshape the dataset into 4D array\n",
    "    x_train_kf = x_train_kf.reshape(x_train_kf.shape[0], 100, 100, 1)\n",
    "    x_val_kf = x_val_kf.reshape(x_val_kf.shape[0], 100, 100, 1)\n",
    "\n",
    "    # Convert dataset into a float32\n",
    "    x_train_kf = x_train_kf.astype('float32')\n",
    "    x_val_kf = x_val_kf.astype('float32')\n",
    "\n",
    "    # Normalise the dataset\n",
    "    x_train_kf /= 255\n",
    "    x_val_kf /= 255\n",
    "    \n",
    "    cnn_model = Sequential()\n",
    "    cnn_model.add(Conv2D(32, (3, 3), activation='relu', input_shape=(100,100,1)))\n",
    "    cnn_model.add(Conv2D(32, (3, 3), activation='relu'))\n",
    "    cnn_model.add(MaxPooling2D(pool_size=(2,2)))\n",
    "    cnn_model.add(Dropout(0.25))\n",
    "    cnn_model.add(Flatten())\n",
    "    cnn_model.add(Dense(128, activation='relu'))\n",
    "    cnn_model.add(Dropout(0.5))\n",
    "    cnn_model.add(Dense(4, activation='softmax'))\n",
    "\n",
    "    # Compile the model\n",
    "    cnn_model.compile(loss='categorical_crossentropy', optimizer='adam', metrics=['accuracy'])\n",
    "\n",
    "    # Generate a print\n",
    "    print(f'Training for fold {i}')\n",
    "\n",
    "    # Fit data to model\n",
    "    history = cnn_model.fit(x_train_kf, y_train_kf,\n",
    "    batch_size=5,\n",
    "    epochs=5)\n",
    "\n",
    "    # Generate generalization metrics\n",
    "    scores = cnn_model.evaluate(x_val_kf, y_val_kf)\n",
    "    print(f'Score for fold {fold_no}: {cnn_model.metrics_names[0]} of {scores[0]}; {cnn_model.metrics_names[1]} of {scores[1]*100}%')\n",
    "    acc_per_fold_bin_cnn.append(scores[1] * 100)\n",
    "    loss_per_fold_bin_cnn.append(scores[0])\n",
    "\n",
    "    # Increase fold number\n",
    "    fold_no = fold_no + 1"
   ]
  },
  {
   "cell_type": "markdown",
   "metadata": {},
   "source": [
    "X_train shape (988, 100, 100, 1)\n",
    "y_train shape (988, 4)\n",
    "X_test shape (248, 100, 100, 1)\n",
    "y_test shape (248, 4)"
   ]
  },
  {
   "cell_type": "markdown",
   "metadata": {},
   "source": [
    "Cross Validation will be implemented to compare the precision, recall and f1 score of each classifier on the binarised repository.\n",
    "\n"
   ]
  },
  {
   "cell_type": "markdown",
   "metadata": {},
   "source": [
    "## Hog Repository"
   ]
  },
  {
   "cell_type": "markdown",
   "metadata": {},
   "source": [
    "##### Split the Data"
   ]
  },
  {
   "cell_type": "markdown",
   "metadata": {},
   "source": [
    "The data will be applied to Support Vector Machine algorithm below with the Support Vector Classifier(SVC)."
   ]
  },
  {
   "cell_type": "code",
   "execution_count": null,
   "metadata": {},
   "outputs": [],
   "source": [
    "# Set random seed for reproducibility\n",
    "np.random.seed(123)"
   ]
  },
  {
   "cell_type": "code",
   "execution_count": null,
   "metadata": {
    "scrolled": true
   },
   "outputs": [],
   "source": [
    "# import the relevant packages\n",
    "from sklearn.model_selection import train_test_split\n",
    "\n",
    "# split the data into training and testing sets\n",
    "X_train, X_test, y_train, y_test = train_test_split(hogrepo, target, test_size=0.2)\n"
   ]
  },
  {
   "cell_type": "markdown",
   "metadata": {},
   "source": [
    "#### Support Vector Machine(SVM) "
   ]
  },
  {
   "cell_type": "code",
   "execution_count": null,
   "metadata": {},
   "outputs": [],
   "source": [
    "# Set random seed for reproducibility\n",
    "np.random.seed(123)"
   ]
  },
  {
   "cell_type": "code",
   "execution_count": null,
   "metadata": {},
   "outputs": [],
   "source": [
    "#import Support Vector Classifier\n",
    "from sklearn.svm import SVC\n",
    "\n",
    "# initiatiate the SVC\n",
    "svc_model = SVC()\n",
    "\n",
    "# fit theclassifier to the training data\n",
    "svc_fit = svc_model.fit(X_train, y_train)\n",
    "\n",
    "# predict the model with the test data\n",
    "svc_pred = svc_model.predict(X_test)"
   ]
  },
  {
   "cell_type": "markdown",
   "metadata": {},
   "source": [
    "#### Random Forest "
   ]
  },
  {
   "cell_type": "code",
   "execution_count": null,
   "metadata": {},
   "outputs": [],
   "source": [
    "# Set random seed for reproducibility\n",
    "np.random.seed(123)"
   ]
  },
  {
   "cell_type": "code",
   "execution_count": null,
   "metadata": {},
   "outputs": [],
   "source": [
    "#import RandomForestClassifier\n",
    "from sklearn.ensemble import RandomForestClassifier\n",
    "\n",
    "# initiatiate the RandomForestClassifier\n",
    "rf_model = RandomForestClassifier()\n",
    "\n",
    "# fit theclassifier to the training data\n",
    "rf_fit = rf_model.fit(X_train, y_train)\n",
    "\n",
    "# predict the model with the test data\n",
    "rf_pred = rf_model.predict(X_test)\n"
   ]
  },
  {
   "cell_type": "markdown",
   "metadata": {},
   "source": [
    "#### Accuracy of the Model"
   ]
  },
  {
   "cell_type": "code",
   "execution_count": null,
   "metadata": {
    "scrolled": false
   },
   "outputs": [],
   "source": [
    "# Evaluating Mean Accuracy for all folds\n",
    "from sklearn.model_selection import cross_validate\n",
    "from sklearn.model_selection import cross_val_score\n",
    "print('Mean Accuracy for SVM: ',np.mean(cross_val_score(svc_model, originalrepo, target, cv=5, scoring = 'accuracy')))\n",
    "print('Mean Accuracy for RF: ',np.mean(cross_val_score(rf_model, originalrepo, target, cv=5, scoring = 'accuracy')))\n",
    "precision_score(y_test, rf_pred, average='micro', zero_division=1)\n"
   ]
  },
  {
   "cell_type": "markdown",
   "metadata": {},
   "source": [
    "### NN "
   ]
  },
  {
   "cell_type": "code",
   "execution_count": null,
   "metadata": {},
   "outputs": [],
   "source": [
    "# Set random seed for reproducibility\n",
    "np.random.seed(123)"
   ]
  },
  {
   "cell_type": "code",
   "execution_count": null,
   "metadata": {},
   "outputs": [],
   "source": [
    "data = hogrepo\n",
    "fold_no = 1\n",
    "# Define per-fold score containers <-- these are new\n",
    "acc_per_fold_hog_nn = []\n",
    "loss_per_fold_hog_nn = []\n",
    "# Define the K-fold Cross Validator\n",
    "kfold = StratifiedKFold(n_splits=5, shuffle=True)\n",
    "\n",
    "\n",
    "for i, (train_index, val_index) in enumerate(kfold.split(data, ohe_labels.argmax(1))):\n",
    "    x_train_kf, x_val_kf = data[train_index], data[val_index]\n",
    "    y_train_kf, y_val_kf = ohe_labels[train_index], ohe_labels[val_index]\n",
    "    \n",
    "    nn_model = Sequential()\n",
    "    nn_model.add(Dense(10, input_shape=(10000,), activation='relu'))\n",
    "    nn_model.add(Dense(10, activation='relu'))\n",
    "    nn_model.add(Dense(4, activation='sigmoid'))\n",
    "\n",
    "    # Compile the model\n",
    "    nn_model.compile(loss='categorical_crossentropy', optimizer='adam', metrics=['accuracy'])\n",
    "\n",
    "    # Generate a print\n",
    "    print(f'Training for fold {i}')\n",
    "\n",
    "    # Fit data to model\n",
    "    history = nn_model.fit(x_train_kf, y_train_kf,\n",
    "    batch_size=5,\n",
    "    epochs=5)\n",
    "\n",
    "    # Generate generalization metrics\n",
    "    scores = nn_model.evaluate(x_val_kf, y_val_kf)\n",
    "    print(f'Score for fold {fold_no}: {nn_model.metrics_names[0]} of {scores[0]}; {nn_model.metrics_names[1]} of {scores[1]*100}%')\n",
    "    acc_per_fold_hog_nn.append(scores[1] * 100)\n",
    "    loss_per_fold_hog_nn.append(scores[0])\n",
    "\n",
    "    # Increase fold number\n",
    "    fold_no = fold_no + 1"
   ]
  },
  {
   "cell_type": "markdown",
   "metadata": {},
   "source": [
    "To evaluate the model, we use a separate test data-set. As in the train data, the images in the test data also need to be reshaped before they can be provided to the fully-connected network because the network expects one column per pixel in the input."
   ]
  },
  {
   "cell_type": "markdown",
   "metadata": {},
   "source": [
    "#### CNN"
   ]
  },
  {
   "cell_type": "code",
   "execution_count": null,
   "metadata": {},
   "outputs": [],
   "source": [
    "# Set random seed for reproducibility\n",
    "np.random.seed(123)"
   ]
  },
  {
   "cell_type": "code",
   "execution_count": null,
   "metadata": {},
   "outputs": [],
   "source": [
    "# Import relevant packages\n",
    "from keras.models import Sequential\n",
    "from keras.layers import Dense, Conv2D, Dropout, Flatten, MaxPooling2D\n",
    "from tensorflow.keras import datasets, layers, models\n",
    "from keras.layers import Dense, Dropout, Conv2D, MaxPool2D, Flatten\n",
    "from keras.utils import np_utils\n",
    "\n",
    "data = hogrepo\n",
    "fold_no = 1\n",
    "\n",
    "# Define per-fold score containers <-- these are new\n",
    "acc_per_fold_hog_cnn = []\n",
    "loss_per_fold_hog_cnn = []\n",
    "\n",
    "# Define the K-fold Cross Validator\n",
    "kfold = StratifiedKFold(n_splits=5, shuffle=True)\n",
    "\n",
    "\n",
    "for i, (train_index, val_index) in enumerate(kfold.split(data, ohe_labels.argmax(1))):\n",
    "    x_train_kf, x_val_kf = data[train_index], data[val_index]\n",
    "    y_train_kf, y_val_kf = ohe_labels[train_index], ohe_labels[val_index]\n",
    "    \n",
    "    \n",
    "    # Reshape the dataset into 4D array\n",
    "    x_train_kf = x_train_kf.reshape(x_train_kf.shape[0], 100, 100, 1)\n",
    "    x_val_kf = x_val_kf.reshape(x_val_kf.shape[0], 100, 100, 1)\n",
    "\n",
    "    # Convert dataset into a float32\n",
    "    x_train_kf = x_train_kf.astype('float32')\n",
    "    x_val_kf = x_val_kf.astype('float32')\n",
    "\n",
    "    # Normalise the dataset\n",
    "    x_train_kf /= 255\n",
    "    x_val_kf /= 255\n",
    "\n",
    "\n",
    "    cnn_model = Sequential()\n",
    "    cnn_model.add(Conv2D(32, (3, 3), activation='relu', input_shape=(100,100,1)))\n",
    "    cnn_model.add(Conv2D(32, (3, 3), activation='relu'))\n",
    "    cnn_model.add(MaxPooling2D(pool_size=(2,2)))\n",
    "    cnn_model.add(Dropout(0.25))\n",
    "    cnn_model.add(Flatten())\n",
    "    cnn_model.add(Dense(128, activation='relu'))\n",
    "    cnn_model.add(Dropout(0.5))\n",
    "    cnn_model.add(Dense(4, activation='softmax'))\n",
    "\n",
    "    # Compile the model\n",
    "    cnn_model.compile(loss='categorical_crossentropy', optimizer='adam', metrics=['accuracy'])\n",
    "\n",
    "    # Generate a print\n",
    "    print(f'Training for fold {i}')\n",
    "\n",
    "    # Fit data to model\n",
    "    history = cnn_model.fit(x_train_kf, y_train_kf,\n",
    "    batch_size=5,\n",
    "    epochs=5)\n",
    "\n",
    "    # Generate generalization metrics\n",
    "    scores = cnn_model.evaluate(x_val_kf, y_val_kf)\n",
    "    print(f'Score for fold {fold_no}: {cnn_model.metrics_names[0]} of {scores[0]}; {cnn_model.metrics_names[1]} of {scores[1]*100}%')\n",
    "    acc_per_fold_hog_cnn.append(scores[1] * 100)\n",
    "    loss_per_fold_hog_cnn.append(scores[0])\n",
    "\n",
    "    # Increase fold number\n",
    "    fold_no = fold_no + 1"
   ]
  },
  {
   "cell_type": "markdown",
   "metadata": {},
   "source": [
    "X_train shape (988, 100, 100, 1)\n",
    "y_train shape (988, 4)\n",
    "X_test shape (248, 100, 100, 1)\n",
    "y_test shape (248, 4)"
   ]
  },
  {
   "cell_type": "markdown",
   "metadata": {},
   "source": [
    "#### ROS Repository"
   ]
  },
  {
   "cell_type": "markdown",
   "metadata": {},
   "source": [
    "The data will be applied to Support Vector Machine algorithm below with the Support Vector Classifier(SVC)."
   ]
  },
  {
   "cell_type": "code",
   "execution_count": null,
   "metadata": {
    "scrolled": true
   },
   "outputs": [],
   "source": [
    "# import the relevant packages\n",
    "from sklearn.model_selection import train_test_split\n",
    "\n",
    "# split the data into training and testing sets\n",
    "X_train, X_test, y_train, y_test = train_test_split(hogrepo_ros, target_ros, test_size=0.2)\n"
   ]
  },
  {
   "cell_type": "markdown",
   "metadata": {},
   "source": [
    "##### Support Vector Machine(SVM) "
   ]
  },
  {
   "cell_type": "code",
   "execution_count": null,
   "metadata": {},
   "outputs": [],
   "source": [
    "#import Support Vector Classifier\n",
    "from sklearn.svm import SVC\n",
    "\n",
    "# initiatiate the SVC\n",
    "svc_model = SVC()\n",
    "\n",
    "# fit theclassifier to the training data\n",
    "svc_fit = svc_model.fit(X_train, y_train)\n",
    "\n",
    "# predict the model with the test data\n",
    "svc_pred = svc_model.predict(X_test)"
   ]
  },
  {
   "cell_type": "markdown",
   "metadata": {},
   "source": [
    "##### Random Forest "
   ]
  },
  {
   "cell_type": "code",
   "execution_count": null,
   "metadata": {},
   "outputs": [],
   "source": [
    "#import RandomForestClassifier\n",
    "from sklearn.ensemble import RandomForestClassifier\n",
    "\n",
    "# initiatiate the RandomForestClassifier\n",
    "rf_model = RandomForestClassifier()\n",
    "\n",
    "# fit the classifier to the training data\n",
    "rf_fit = rf_model.fit(X_train, y_train)\n",
    "\n",
    "# predict the model with the test data\n",
    "rf_pred = rf_model.predict(X_test)\n"
   ]
  },
  {
   "cell_type": "markdown",
   "metadata": {},
   "source": [
    "#### Accuracy of the Model"
   ]
  },
  {
   "cell_type": "code",
   "execution_count": null,
   "metadata": {},
   "outputs": [],
   "source": [
    "# Evaluating Mean Accuracy for all folds\n",
    "from sklearn.model_selection import cross_validate\n",
    "from sklearn.model_selection import cross_val_score\n",
    "print('Mean Accuracy for SVM: ',np.mean(cross_val_score(svc_model, originalrepo, target, cv=5, scoring = 'accuracy')))\n",
    "print('Mean Accuracy for RF: ',np.mean(cross_val_score(rf_model, originalrepo, target, cv=5, scoring = 'accuracy')))\n",
    "precision_score(y_test, rf_pred, average='micro', zero_division=1)\n"
   ]
  },
  {
   "cell_type": "markdown",
   "metadata": {},
   "source": [
    "The accuracy of the Support Vector Machine is 64%. This is an improvement on the the 25% chance without a classifier. The number of true positives in the 101 which is higher than 83 number of true negatives. However there is more false positive than false negatives. This suggest the classifier is 64% more likely to identify the correct class than not. "
   ]
  },
  {
   "cell_type": "markdown",
   "metadata": {},
   "source": [
    "#### NN "
   ]
  },
  {
   "cell_type": "code",
   "execution_count": null,
   "metadata": {},
   "outputs": [],
   "source": [
    "#convert target dataset to a numpy array for the NN\n",
    "target_ros = np.array(target_ros)\n",
    "\n",
    "# The number of image categories\n",
    "n_categories = 4\n",
    "\n",
    "# The unique values of categories in the data\n",
    "categories = np.array([\"femalemask_c0\", \"femalemask_c1\", \"femalenomask_c0\", \"malemask_c0\", \"malemask_c1\", \"malenomask_c0\"])\n",
    "\n",
    "# Initialize ohe_labels as all zeros\n",
    "ohe_labels_ros = np.zeros((len(target_ros), n_categories))\n",
    "\n",
    "# Loop over the labels\n",
    "for ii in range(len(target_ros)):\n",
    "    # Find the location of this label in the categories variable\n",
    "    jj = np.where(categories== target_ros[ii])\n",
    "    # Set the corresponding zero to one\n",
    "    ohe_labels_ros[ii, jj] = 1"
   ]
  },
  {
   "cell_type": "code",
   "execution_count": null,
   "metadata": {},
   "outputs": [],
   "source": [
    "data = hogrepo_ros\n",
    "fold_no = 1\n",
    "# Define per-fold score containers <-- these are new\n",
    "acc_per_fold_hog_ros_nn = []\n",
    "loss_per_fold_hog_ros_nn = []\n",
    "# Define the K-fold Cross Validator\n",
    "kfold = StratifiedKFold(n_splits=5, shuffle=True)\n",
    "\n",
    "\n",
    "for i, (train_index, val_index) in enumerate(kfold.split(data, ohe_labels_ros.argmax(1))):\n",
    "    x_train_kf, x_val_kf = data[train_index], data[val_index]\n",
    "    y_train_kf, y_val_kf = ohe_labels_ros[train_index], ohe_labels_ros[val_index]\n",
    "    \n",
    "    nn_model = Sequential()\n",
    "    nn_model.add(Dense(10, input_shape=(10000,), activation='relu'))\n",
    "    nn_model.add(Dense(10, activation='relu'))\n",
    "    nn_model.add(Dense(4, activation='sigmoid'))\n",
    "\n",
    "    # Compile the model\n",
    "    nn_model.compile(loss='categorical_crossentropy', optimizer='adam', metrics=['accuracy'])\n",
    "\n",
    "    # Generate a print\n",
    "    print(f'Training for fold {i}')\n",
    "\n",
    "    # Fit data to model\n",
    "    history = nn_model.fit(x_train_kf, y_train_kf,\n",
    "    batch_size=5,\n",
    "    epochs=5)\n",
    "\n",
    "    # Generate generalization metrics\n",
    "    scores = nn_model.evaluate(x_val_kf, y_val_kf)\n",
    "    print(f'Score for fold {fold_no}: {nn_model.metrics_names[0]} of {scores[0]}; {nn_model.metrics_names[1]} of {scores[1]*100}%')\n",
    "    acc_per_fold_hog_ros_nn.append(scores[1] * 100)\n",
    "    loss_per_fold_hog_ros_nn.append(scores[0])\n",
    "\n",
    "    # Increase fold number\n",
    "    fold_no = fold_no + 1"
   ]
  },
  {
   "cell_type": "markdown",
   "metadata": {},
   "source": [
    "To evaluate the model, we use a separate test data-set. As in the train data, the images in the test data also need to be reshaped before they can be provided to the fully-connected network because the network expects one column per pixel in the input."
   ]
  },
  {
   "cell_type": "markdown",
   "metadata": {},
   "source": [
    "#### CNN"
   ]
  },
  {
   "cell_type": "code",
   "execution_count": null,
   "metadata": {},
   "outputs": [],
   "source": [
    "# Set random seed for reproducibility\n",
    "np.random.seed(123)"
   ]
  },
  {
   "cell_type": "code",
   "execution_count": null,
   "metadata": {},
   "outputs": [],
   "source": [
    "# Import relevant packages\n",
    "from keras.models import Sequential\n",
    "from keras.layers import Dense, Conv2D, Dropout, Flatten, MaxPooling2D\n",
    "from tensorflow.keras import datasets, layers, models\n",
    "from keras.layers import Dense, Dropout, Conv2D, MaxPool2D, Flatten\n",
    "from keras.utils import np_utils\n",
    "\n",
    "data = hogrepo_ros\n",
    "fold_no = 1\n",
    "# Define per-fold score containers <-- these are new\n",
    "acc_per_fold_hog_ros_cnn = []\n",
    "loss_per_fold_hog_ros_cnn = []\n",
    "# Define the K-fold Cross Validator\n",
    "kfold = StratifiedKFold(n_splits=5, shuffle=True)\n",
    "\n",
    "\n",
    "for i, (train_index, val_index) in enumerate(kfold.split(data, ohe_labels_ros.argmax(1))):\n",
    "    x_train_kf, x_val_kf = data[train_index], data[val_index]\n",
    "    y_train_kf, y_val_kf = ohe_labels_ros[train_index], ohe_labels_ros[val_index]\n",
    "    \n",
    "    \n",
    "    # Reshape the dataset into 4D array\n",
    "    x_train_kf = x_train_kf.reshape(x_train_kf.shape[0], 100, 100, 1)\n",
    "    x_val_kf = x_val_kf.reshape(x_val_kf.shape[0], 100, 100, 1)\n",
    "\n",
    "    # Convert dataset into a float32\n",
    "    x_train_kf = x_train_kf.astype('float32')\n",
    "    x_val_kf = x_val_kf.astype('float32')\n",
    "\n",
    "    # Normalise the dataset\n",
    "    x_train_kf /= 255\n",
    "    x_val_kf /= 255\n",
    "    \n",
    "    cnn_model = Sequential()\n",
    "    cnn_model.add(Conv2D(32, (3, 3), activation='relu', input_shape=(100,100,1)))\n",
    "    cnn_model.add(Conv2D(32, (3, 3), activation='relu'))\n",
    "    cnn_model.add(MaxPooling2D(pool_size=(2,2)))\n",
    "    cnn_model.add(Dropout(0.25))\n",
    "    cnn_model.add(Flatten())\n",
    "    cnn_model.add(Dense(128, activation='relu'))\n",
    "    cnn_model.add(Dropout(0.5))\n",
    "    cnn_model.add(Dense(4, activation='softmax'))\n",
    "\n",
    "    # Compile the model\n",
    "    cnn_model.compile(loss='categorical_crossentropy', optimizer='adam', metrics=['accuracy'])\n",
    "\n",
    "    # Generate a print\n",
    "    print(f'Training for fold {i}')\n",
    "\n",
    "    # Fit data to model\n",
    "    history = cnn_model.fit(x_train_kf, y_train_kf,\n",
    "    batch_size=5,\n",
    "    epochs=5)\n",
    "\n",
    "    # Generate generalization metrics\n",
    "    scores = cnn_model.evaluate(x_val_kf, y_val_kf)\n",
    "    print(f'Score for fold {fold_no}: {cnn_model.metrics_names[0]} of {scores[0]}; {cnn_model.metrics_names[1]} of {scores[1]*100}%')\n",
    "    acc_per_fold_hog_ros_cnn.append(scores[1] * 100)\n",
    "    loss_per_fold_hog_ros_cnn.append(scores[0])\n",
    "\n",
    "    # Increase fold number\n",
    "    fold_no = fold_no + 1"
   ]
  },
  {
   "cell_type": "markdown",
   "metadata": {},
   "source": [
    "X_train shape (988, 100, 100, 1)\n",
    "y_train shape (988, 4)\n",
    "X_test shape (248, 100, 100, 1)\n",
    "y_test shape (248, 4)"
   ]
  },
  {
   "cell_type": "markdown",
   "metadata": {},
   "source": [
    "## Class Decomposition Repository"
   ]
  },
  {
   "cell_type": "markdown",
   "metadata": {},
   "source": [
    "The data will be applied to Support Vector Machine algorithm below with the Support Vector Classifier(SVC)."
   ]
  },
  {
   "cell_type": "code",
   "execution_count": null,
   "metadata": {
    "scrolled": true
   },
   "outputs": [],
   "source": [
    "# import the relevant packages\n",
    "from sklearn.model_selection import train_test_split\n",
    "\n",
    "# split the data into training and testing sets\n",
    "X_train, X_test, y_train, y_test = train_test_split(originalrepo, target_cd, test_size=0.2)\n"
   ]
  },
  {
   "cell_type": "markdown",
   "metadata": {},
   "source": [
    "#### Support Vector Machine(SVM) "
   ]
  },
  {
   "cell_type": "code",
   "execution_count": null,
   "metadata": {},
   "outputs": [],
   "source": [
    "#import Support Vector Classifier\n",
    "from sklearn.svm import SVC\n",
    "\n",
    "# initiatiate the SVC\n",
    "svc_model = SVC()\n",
    "\n",
    "# fit theclassifier to the training data\n",
    "svc_fit = svc_model.fit(X_train, y_train)\n",
    "\n",
    "# predict the model with the test data\n",
    "svc_pred = svc_model.predict(X_test)"
   ]
  },
  {
   "cell_type": "markdown",
   "metadata": {},
   "source": [
    "#### Random Forest "
   ]
  },
  {
   "cell_type": "code",
   "execution_count": null,
   "metadata": {},
   "outputs": [],
   "source": [
    "#import RandomForestClassifier\n",
    "from sklearn.ensemble import RandomForestClassifier\n",
    "\n",
    "# initiatiate the RandomForestClassifier\n",
    "rf_model = RandomForestClassifier()\n",
    "\n",
    "# fit theclassifier to the training data\n",
    "rf_fit = rf_model.fit(X_train, y_train)\n",
    "\n",
    "# predict the model with the test data\n",
    "rf_pred = rf_model.predict(X_test)\n"
   ]
  },
  {
   "cell_type": "markdown",
   "metadata": {},
   "source": [
    "#### Accuracy of the Model"
   ]
  },
  {
   "cell_type": "code",
   "execution_count": null,
   "metadata": {
    "scrolled": true
   },
   "outputs": [],
   "source": [
    "# Evaluating Mean Accuracy for all folds\n",
    "from sklearn.model_selection import cross_validate\n",
    "from sklearn.model_selection import cross_val_score\n",
    "print('Mean Accuracy for SVM: ',np.mean(cross_val_score(svc_model, originalrepo, target_cd, cv=5, scoring = 'accuracy')))\n",
    "print('Mean Accuracy for RF: ',np.mean(cross_val_score(rf_model, originalrepo, target_cd, cv=5, scoring = 'accuracy')))\n",
    "precision_score(y_test, rf_pred, average='micro', zero_division=1)\n"
   ]
  },
  {
   "cell_type": "code",
   "execution_count": null,
   "metadata": {},
   "outputs": [],
   "source": []
  },
  {
   "cell_type": "markdown",
   "metadata": {},
   "source": [
    "#### NN "
   ]
  },
  {
   "cell_type": "code",
   "execution_count": null,
   "metadata": {},
   "outputs": [],
   "source": [
    "#convert target dataset to a numpy array for the NN\n",
    "target_cd = np.array(target_cd)\n",
    "\n",
    "# The number of image categories\n",
    "n_categories = 6\n",
    "\n",
    "# The unique values of categories in the data\n",
    "categories = np.array([\"femalemask_c0\", \"femalemask_c1\", \"femalenomask_c0\", \"malemask_c0\", \"malemask_c1\", \"malenomask_c0\"])\n",
    "\n",
    "# Initialize ohe_labels as all zeros\n",
    "ohe_labels_cd = np.zeros((len(target_cd), n_categories))\n",
    "\n",
    "# Loop over the labels\n",
    "for ii in range(len(target_cd)):\n",
    "    # Find the location of this label in the categories variable\n",
    "    jj = np.where(categories== target_cd[ii])\n",
    "    # Set the corresponding zero to one\n",
    "    ohe_labels_cd[ii, jj] = 1"
   ]
  },
  {
   "cell_type": "code",
   "execution_count": null,
   "metadata": {},
   "outputs": [],
   "source": [
    "data = originalrepo\n",
    "fold_no = 1\n",
    "# Define per-fold score containers <-- these are new\n",
    "acc_per_fold_cd_nn = []\n",
    "loss_per_fold_cd_nn = []\n",
    "# Define the K-fold Cross Validator\n",
    "kfold = StratifiedKFold(n_splits=5, shuffle=True)\n",
    "\n",
    "\n",
    "for i, (train_index, val_index) in enumerate(kfold.split(data, ohe_labels_cd.argmax(1))):\n",
    "    x_train_kf, x_val_kf = data[train_index], data[val_index]\n",
    "    y_train_kf, y_val_kf = ohe_labels_cd[train_index], ohe_labels_cd[val_index]\n",
    "    \n",
    "    nn_model = Sequential()\n",
    "    nn_model.add(Dense(10, input_shape=(10000,), activation='relu'))\n",
    "    nn_model.add(Dense(10, activation='relu'))\n",
    "    nn_model.add(Dense(4, activation='sigmoid'))\n",
    "\n",
    "    # Compile the model\n",
    "    nn_model.compile(loss='categorical_crossentropy', optimizer='adam', metrics=['accuracy'])\n",
    "\n",
    "    # Generate a print\n",
    "    print(f'Training for fold {i}')\n",
    "\n",
    "    # Fit data to model\n",
    "    history = nn_model.fit(x_train_kf, y_train_kf,\n",
    "    batch_size=5,\n",
    "    epochs=5)\n",
    "\n",
    "    # Generate generalization metrics\n",
    "    scores = nn_model.evaluate(x_val_kf, y_val_kf)\n",
    "    print(f'Score for fold {fold_no}: {nn_model.metrics_names[0]} of {scores[0]}; {nn_model.metrics_names[1]} of {scores[1]*100}%')\n",
    "    acc_per_fold.append(scores[1] * 100)\n",
    "    loss_per_fold.append(scores[0])\n",
    "\n",
    "    # Increase fold number\n",
    "    fold_no = fold_no + 1"
   ]
  },
  {
   "cell_type": "markdown",
   "metadata": {},
   "source": [
    "To evaluate the model, we use a separate test data-set. As in the train data, the images in the test data also need to be reshaped before they can be provided to the fully-connected network because the network expects one column per pixel in the input."
   ]
  },
  {
   "cell_type": "markdown",
   "metadata": {},
   "source": [
    "#### CNN"
   ]
  },
  {
   "cell_type": "markdown",
   "metadata": {},
   "source": [
    "CNN can classify and extract their own features therefore there is no need to use the hog dataset. This is why CNN will be used on the image repository. Thesefore the data will be split again using the datarepo and the target_cd.\n",
    "The images are all 100 by 100 images coloured imaged. The CNN will compute 32 filters over the input with a response map that is 26 x 26 in size. The siz of the patches is 3 x 3 and the depth of the output feature map is 32. Max pooling extracts windows from the input much like a convolution and halves the feature map."
   ]
  },
  {
   "cell_type": "code",
   "execution_count": null,
   "metadata": {},
   "outputs": [],
   "source": [
    "# Set random seed for reproducibility\n",
    "np.random.seed(123)"
   ]
  },
  {
   "cell_type": "code",
   "execution_count": null,
   "metadata": {},
   "outputs": [],
   "source": [
    "# Import relevant packages\n",
    "from keras.models import Sequential\n",
    "from keras.layers import Dense, Conv2D, Dropout, Flatten, MaxPooling2D\n",
    "from tensorflow.keras import datasets, layers, models\n",
    "from keras.layers import Dense, Dropout, Conv2D, MaxPool2D, Flatten\n",
    "from keras.utils import np_utils\n",
    "\n",
    "data = originalrepo\n",
    "fold_no = 1\n",
    "# Define per-fold score containers <-- these are new\n",
    "acc_per_fold_cd_cnn = []\n",
    "loss_per_fold_cd_cnn = []\n",
    "# Define the K-fold Cross Validator\n",
    "kfold = StratifiedKFold(n_splits=5, shuffle=True)\n",
    "\n",
    "\n",
    "for i, (train_index, val_index) in enumerate(kfold.split(data, ohe_labels_cd.argmax(1))):\n",
    "    x_train_kf, x_val_kf = data[train_index], data[val_index]\n",
    "    y_train_kf, y_val_kf = ohe_labels_cd[train_index], ohe_labels_cd[val_index]\n",
    "\n",
    "    \n",
    "    # Reshape the dataset into 4D array\n",
    "    x_train_kf = x_train_kf.reshape(x_train_kf.shape[0], 100, 100, 1)\n",
    "    x_val_kf = x_val_kf.reshape(x_val_kf.shape[0], 100, 100, 1)\n",
    "\n",
    "    # Convert dataset into a float32\n",
    "    x_train_kf = x_train_kf.astype('float32')\n",
    "    x_val_kf = x_val_kf.astype('float32')\n",
    "\n",
    "    # Normalise the dataset\n",
    "    x_train_kf /= 255\n",
    "    x_val_kf /= 255\n",
    "    \n",
    "    cnn_model = Sequential()\n",
    "    cnn_model.add(Conv2D(32, (3, 3), activation='relu', input_shape=(100,100,1)))\n",
    "    cnn_model.add(Conv2D(32, (3, 3), activation='relu'))\n",
    "    cnn_model.add(MaxPooling2D(pool_size=(2,2)))\n",
    "    cnn_model.add(Dropout(0.25))\n",
    "    cnn_model.add(Flatten())\n",
    "    cnn_model.add(Dense(128, activation='relu'))\n",
    "    cnn_model.add(Dropout(0.5))\n",
    "    cnn_model.add(Dense(6, activation='softmax'))\n",
    "\n",
    "    # Compile the model\n",
    "    cnn_model.compile(loss='categorical_crossentropy', optimizer='adam', metrics=['accuracy'])\n",
    "\n",
    "    # Generate a print\n",
    "    print(f'Training for fold {i}')\n",
    "\n",
    "    # Fit data to model\n",
    "    history = cnn_model.fit(x_train_kf, y_train_kf,\n",
    "    batch_size=5,\n",
    "    epochs=5)\n",
    "\n",
    "    # Generate generalization metrics\n",
    "    scores = cnn_model.evaluate(x_val_kf, y_val_kf)\n",
    "    print(f'Score for fold {fold_no}: {cnn_model.metrics_names[0]} of {scores[0]}; {cnn_model.metrics_names[1]} of {scores[1]*100}%')\n",
    "    acc_per_fold_cd_cnn.append(scores[1] * 100)\n",
    "    loss_per_fold_cd_cnn.append(scores[0])\n",
    "\n",
    "    # Increase fold number\n",
    "    fold_no = fold_no + 1"
   ]
  },
  {
   "cell_type": "markdown",
   "metadata": {},
   "source": [
    "X_train shape (988, 100, 100, 1)\n",
    "y_train shape (988, 4)\n",
    "X_test shape (248, 100, 100, 1)\n",
    "y_test shape (248, 4)"
   ]
  },
  {
   "cell_type": "markdown",
   "metadata": {},
   "source": [
    "### Results"
   ]
  },
  {
   "cell_type": "markdown",
   "metadata": {},
   "source": [
    "4. Discussion of the results and \"future work\" (i.e. How to improve the obtained results?)\n",
    "\n",
    "\n",
    "The student reflected in\n",
    "a profound manner on\n",
    "the obtained results,\n",
    "showing an exceptional\n",
    "analysis methodology\n",
    "and understanding of\n",
    "the scenario.\n",
    "The student provided a\n",
    "set of clear guidelines\n",
    "that could potentially\n",
    "improve the work\n",
    "provided that more\n",
    "resources are allocated.\n"
   ]
  },
  {
   "cell_type": "markdown",
   "metadata": {},
   "source": [
    "This model currently is in need of improved both with the data set and the pre processing. The data would benefit from even more images of female faces without masks as there is still a majority of male faces. The binarisation needs to be fixed and the feature extraction needs to adapt to recognise faces under masks. The feature extraction also needs to add the complexity of recognising gender before it can be properly evaluated."
   ]
  },
  {
   "cell_type": "code",
   "execution_count": null,
   "metadata": {},
   "outputs": [],
   "source": []
  }
 ],
 "metadata": {
  "kernelspec": {
   "display_name": "Python 3",
   "language": "python",
   "name": "python3"
  },
  "language_info": {
   "codemirror_mode": {
    "name": "ipython",
    "version": 3
   },
   "file_extension": ".py",
   "mimetype": "text/x-python",
   "name": "python",
   "nbconvert_exporter": "python",
   "pygments_lexer": "ipython3",
   "version": "3.6.12"
  },
  "widgets": {
   "application/vnd.jupyter.widget-state+json": {
    "state": {},
    "version_major": 2,
    "version_minor": 0
   }
  }
 },
 "nbformat": 4,
 "nbformat_minor": 4
}
